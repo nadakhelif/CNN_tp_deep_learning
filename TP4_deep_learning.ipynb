{
  "cells": [
    {
      "cell_type": "markdown",
      "metadata": {
        "id": "view-in-github",
        "colab_type": "text"
      },
      "source": [
        "<a href=\"https://colab.research.google.com/github/nadakhelif/CNN_tp_deep_learning/blob/main/TP4_deep_learning.ipynb\" target=\"_parent\"><img src=\"https://colab.research.google.com/assets/colab-badge.svg\" alt=\"Open In Colab\"/></a>"
      ]
    },
    {
      "cell_type": "markdown",
      "id": "c3625bad",
      "metadata": {
        "id": "c3625bad"
      },
      "source": [
        "### Nada Khelif -  Chaima bouhlel  - Ahmed Frikha"
      ]
    },
    {
      "cell_type": "markdown",
      "id": "ddede2d2",
      "metadata": {
        "id": "ddede2d2"
      },
      "source": [
        "## Importation des bibliothèques"
      ]
    },
    {
      "cell_type": "code",
      "execution_count": null,
      "id": "2ea4795d",
      "metadata": {
        "id": "2ea4795d"
      },
      "outputs": [],
      "source": [
        "import pandas as pd\n",
        "import numpy as np\n",
        "import re\n",
        "import nltk\n",
        "from nltk.corpus import stopwords\n",
        "from numpy import array\n",
        "from keras.preprocessing.text import one_hot\n",
        "from keras_preprocessing.sequence import pad_sequences\n",
        "from keras.models import Sequential\n",
        "from keras.layers.core import Activation, Dropout, Dense\n",
        "from keras.layers import Flatten\n",
        "from keras.layers import Conv1D\n",
        "from keras.layers import GlobalMaxPooling1D, MaxPooling1D\n",
        "from keras.layers import LSTM\n",
        "from keras.layers import Embedding , GRU\n",
        "from sklearn.model_selection import train_test_split\n",
        "from keras.preprocessing.text import Tokenizer\n",
        "import matplotlib.pyplot as plt\n",
        "import seaborn as sns"
      ]
    },
    {
      "cell_type": "markdown",
      "id": "768adfe7",
      "metadata": {
        "id": "768adfe7"
      },
      "source": [
        "## Importation du dataset"
      ]
    },
    {
      "cell_type": "code",
      "execution_count": null,
      "metadata": {
        "outputId": "f8cf5c86-0b11-4b43-c22f-dee89b52578a",
        "id": "8XGBLMSI66Sf"
      },
      "outputs": [
        {
          "data": {
            "text/plain": [
              "(50000, 2)"
            ]
          },
          "execution_count": 2,
          "metadata": {},
          "output_type": "execute_result"
        }
      ],
      "source": [
        "movie_reviews = pd.read_csv('IMDB Dataset.csv')\n",
        "movie_reviews.shape"
      ],
      "id": "8XGBLMSI66Sf"
    },
    {
      "cell_type": "code",
      "execution_count": null,
      "id": "9e2715e8",
      "metadata": {
        "id": "9e2715e8",
        "outputId": "a7e069c8-d49d-4402-f113-70ff32e2ff1d"
      },
      "outputs": [
        {
          "data": {
            "text/plain": [
              "review       0\n",
              "sentiment    0\n",
              "dtype: int64"
            ]
          },
          "execution_count": 3,
          "metadata": {},
          "output_type": "execute_result"
        }
      ],
      "source": [
        "movie_reviews.isnull().sum()"
      ]
    },
    {
      "cell_type": "code",
      "execution_count": null,
      "id": "d7dcb541",
      "metadata": {
        "id": "d7dcb541",
        "outputId": "db738a3b-43a5-4b96-aa89-8335b4941da5"
      },
      "outputs": [
        {
          "data": {
            "text/html": [
              "<div>\n",
              "<style scoped>\n",
              "    .dataframe tbody tr th:only-of-type {\n",
              "        vertical-align: middle;\n",
              "    }\n",
              "\n",
              "    .dataframe tbody tr th {\n",
              "        vertical-align: top;\n",
              "    }\n",
              "\n",
              "    .dataframe thead th {\n",
              "        text-align: right;\n",
              "    }\n",
              "</style>\n",
              "<table border=\"1\" class=\"dataframe\">\n",
              "  <thead>\n",
              "    <tr style=\"text-align: right;\">\n",
              "      <th></th>\n",
              "      <th>review</th>\n",
              "      <th>sentiment</th>\n",
              "    </tr>\n",
              "  </thead>\n",
              "  <tbody>\n",
              "    <tr>\n",
              "      <th>0</th>\n",
              "      <td>One of the other reviewers has mentioned that ...</td>\n",
              "      <td>positive</td>\n",
              "    </tr>\n",
              "    <tr>\n",
              "      <th>1</th>\n",
              "      <td>A wonderful little production. &lt;br /&gt;&lt;br /&gt;The...</td>\n",
              "      <td>positive</td>\n",
              "    </tr>\n",
              "    <tr>\n",
              "      <th>2</th>\n",
              "      <td>I thought this was a wonderful way to spend ti...</td>\n",
              "      <td>positive</td>\n",
              "    </tr>\n",
              "    <tr>\n",
              "      <th>3</th>\n",
              "      <td>Basically there's a family where a little boy ...</td>\n",
              "      <td>negative</td>\n",
              "    </tr>\n",
              "    <tr>\n",
              "      <th>4</th>\n",
              "      <td>Petter Mattei's \"Love in the Time of Money\" is...</td>\n",
              "      <td>positive</td>\n",
              "    </tr>\n",
              "  </tbody>\n",
              "</table>\n",
              "</div>"
            ],
            "text/plain": [
              "                                              review sentiment\n",
              "0  One of the other reviewers has mentioned that ...  positive\n",
              "1  A wonderful little production. <br /><br />The...  positive\n",
              "2  I thought this was a wonderful way to spend ti...  positive\n",
              "3  Basically there's a family where a little boy ...  negative\n",
              "4  Petter Mattei's \"Love in the Time of Money\" is...  positive"
            ]
          },
          "execution_count": 4,
          "metadata": {},
          "output_type": "execute_result"
        }
      ],
      "source": [
        "movie_reviews.head()"
      ]
    },
    {
      "cell_type": "code",
      "execution_count": null,
      "id": "beb1e2b2",
      "metadata": {
        "id": "beb1e2b2",
        "outputId": "3a5adb18-38e0-45f4-d5d2-6dd9a79d3b45"
      },
      "outputs": [
        {
          "data": {
            "image/png": "[encoded data removed]",
            "text/plain": [
              "<Figure size 640x480 with 1 Axes>"
            ]
          },
          "metadata": {},
          "output_type": "display_data"
        }
      ],
      "source": [
        "sns.countplot(data = movie_reviews , x='sentiment')\n",
        "plt.show()"
      ]
    },
    {
      "cell_type": "markdown",
      "id": "3a44718b",
      "metadata": {
        "id": "3a44718b"
      },
      "source": [
        "Notre dataset est bien équilibré"
      ]
    },
    {
      "cell_type": "code",
      "execution_count": null,
      "id": "19367bb7",
      "metadata": {
        "id": "19367bb7",
        "outputId": "ce5308f1-0ca4-421a-f651-de5561f41755"
      },
      "outputs": [
        {
          "name": "stdout",
          "output_type": "stream",
          "text": [
            "Basically there's a family where a little boy (Jake) thinks there's a zombie in his closet & his parents are fighting all the time.<br /><br />This movie is slower than a soap opera... and suddenly, Jake decides to become Rambo and kill the zombie.<br /><br />OK, first of all when you're going to make a film you must Decide if its a thriller or a drama! As a drama the movie is watchable. Parents are divorcing & arguing like in real life. And then we have Jake with his closet which totally ruins all the film! I expected to see a BOOGEYMAN similar movie, and instead i watched a drama with some meaningless thriller spots.<br /><br />3 out of 10 just for the well playing parents & descent dialogs. As for the shots with Jake: just ignore them.\n",
            "negative\n"
          ]
        }
      ],
      "source": [
        "print(movie_reviews['review'][3])\n",
        "print(movie_reviews['sentiment'][3])"
      ]
    },
    {
      "cell_type": "markdown",
      "id": "fdf497f5",
      "metadata": {
        "id": "fdf497f5"
      },
      "source": [
        "Il est observé que les balises HTML sont présentes dans nos données et qu'elles sont inutiles. Par conséquent, il est nécessaire de les supprimer."
      ]
    },
    {
      "cell_type": "markdown",
      "id": "004ab569",
      "metadata": {
        "id": "004ab569"
      },
      "source": [
        "## Prétraitement de données"
      ]
    },
    {
      "cell_type": "code",
      "execution_count": null,
      "id": "9f3f7248",
      "metadata": {
        "id": "9f3f7248"
      },
      "outputs": [],
      "source": [
        "def preprocess_text(sen):\n",
        "    # Removing html tags\n",
        "    sentence = remove_tags(sen)\n",
        "    # Remove punctuations and numbers\n",
        "    sentence = re.sub('[^a-zA-Z]', ' ', sentence)\n",
        "    # Single character removal\n",
        "    sentence = re.sub(r\"\\s+[a-zA-Z]\\s+\", ' ', sentence)\n",
        "    # Removing multiple spaces\n",
        "    sentence = re.sub(r'\\s+', ' ', sentence)\n",
        "    return sentence\n",
        "#A regural expression that matches all html tags\n",
        "TAG_RE = re.compile(r'<[^>]+>')\n",
        "def remove_tags(text):\n",
        "    #remove hhtml tags from the variable text\n",
        "    return TAG_RE.sub('', text)\n"
      ]
    },
    {
      "cell_type": "markdown",
      "id": "4eef0253",
      "metadata": {
        "id": "4eef0253"
      },
      "source": [
        "Dans le code précédent, les expressions régulières ont été mises en œuvre pour trier les données en éliminant les éléments superflus tels que les balises HTML, les signes de ponctuation, les chiffres et les espaces.\n",
        "\n",
        "\n",
        "\n",
        "\n"
      ]
    },
    {
      "cell_type": "code",
      "execution_count": null,
      "id": "431ebaa4",
      "metadata": {
        "id": "431ebaa4"
      },
      "outputs": [],
      "source": [
        "X = []\n",
        "sentences = list(movie_reviews['review'])\n",
        "for sen in sentences:\n",
        "    X.append(preprocess_text(sen))\n"
      ]
    },
    {
      "cell_type": "code",
      "execution_count": null,
      "id": "004feb71",
      "metadata": {
        "id": "004feb71",
        "outputId": "323648c4-18c8-47b0-e4e3-77112b76153a"
      },
      "outputs": [
        {
          "name": "stdout",
          "output_type": "stream",
          "text": [
            "Basically there a family where little boy Jake thinks there a zombie in his closet his parents are fighting all the time This movie is slower than soap opera and suddenly Jake decides to become Rambo and kill the zombie OK first of all when you re going to make film you must Decide if its thriller or drama As drama the movie is watchable Parents are divorcing arguing like in real life And then we have Jake with his closet which totally ruins all the film expected to see BOOGEYMAN similar movie and instead watched drama with some meaningless thriller spots out of just for the well playing parents descent dialogs As for the shots with Jake just ignore them \n"
          ]
        }
      ],
      "source": [
        "print(X[3])"
      ]
    },
    {
      "cell_type": "markdown",
      "id": "0ebe0f8f",
      "metadata": {
        "id": "0ebe0f8f"
      },
      "source": [
        "La base de données a été correctement nettoyée.\n",
        "\n",
        "\n",
        "\n",
        "\n"
      ]
    },
    {
      "cell_type": "code",
      "execution_count": null,
      "id": "eec8af98",
      "metadata": {
        "id": "eec8af98"
      },
      "outputs": [],
      "source": [
        "y = movie_reviews['sentiment']\n",
        "y = np.array(list(map(lambda x: 1 if x==\"positive\" else 0, y)))"
      ]
    },
    {
      "cell_type": "code",
      "execution_count": null,
      "id": "53087f59",
      "metadata": {
        "id": "53087f59"
      },
      "outputs": [],
      "source": [
        "X_train, X_test, y_train, y_test = train_test_split(X, y,test_size=0.20, random_state=42)"
      ]
    },
    {
      "cell_type": "markdown",
      "id": "cff3ab63",
      "metadata": {
        "id": "cff3ab63"
      },
      "source": [
        "## La couche de l'embedding"
      ]
    },
    {
      "cell_type": "code",
      "execution_count": null,
      "id": "481507a1",
      "metadata": {
        "id": "481507a1"
      },
      "outputs": [],
      "source": [
        "tokenizer = Tokenizer(num_words=5000)\n",
        "tokenizer.fit_on_texts(X_train)\n",
        "X_train = tokenizer.texts_to_sequences(X_train)\n",
        "X_test = tokenizer.texts_to_sequences(X_test)\n"
      ]
    },
    {
      "cell_type": "code",
      "execution_count": null,
      "id": "f674374b",
      "metadata": {
        "id": "f674374b",
        "outputId": "64608f50-7d89-4c31-8a40-6250e203b42f"
      },
      "outputs": [
        {
          "name": "stdout",
          "output_type": "stream",
          "text": [
            "[8, 1547, 247, 2628, 5, 443, 4385, 1871, 14, 30, 31, 1062, 390, 4, 968, 119, 22, 118, 4197, 29, 44, 3, 1, 17, 78, 118, 4125, 122, 502, 18, 2, 31, 37, 555, 4, 25, 2839, 1, 2628, 221, 77, 4, 170, 1663, 777, 57, 59, 924, 7, 44, 1974, 950, 1164, 3355, 57, 376, 754, 264, 30, 1318, 1746, 1326, 31, 376, 529, 1135, 491, 19, 4, 736, 745, 701, 39, 3, 1, 1320, 3, 251, 7, 8, 407, 1, 103, 2654, 1749, 3813, 1420, 3515, 7, 1, 125, 46, 130, 147, 749, 9, 8, 16, 266, 52, 1975, 3, 1, 3, 3626, 13, 1, 57, 6, 3735, 7, 430, 752, 2, 9, 6, 5, 1428, 4, 1563, 2543, 51, 1, 2037, 15, 610, 94, 1064, 276, 3, 2, 36, 1415, 14, 57, 2990, 2628, 63, 29, 87, 428, 332, 3432]\n"
          ]
        }
      ],
      "source": [
        "print(X_train[3])"
      ]
    },
    {
      "cell_type": "code",
      "execution_count": null,
      "id": "ec7d040c",
      "metadata": {
        "id": "ec7d040c",
        "outputId": "a948f437-769c-43aa-b10a-08cb46c6d19e"
      },
      "outputs": [
        {
          "name": "stdout",
          "output_type": "stream",
          "text": [
            "92547\n"
          ]
        }
      ],
      "source": [
        "# Adding 1 because of reserved 0 index\n",
        "vocab_size = len(tokenizer.word_index) + 1\n",
        "print(vocab_size)\n",
        "maxlen = 100\n",
        "X_train = pad_sequences(X_train, padding='post', maxlen=maxlen)\n",
        "X_test = pad_sequences(X_test, padding='post', maxlen=maxlen)"
      ]
    },
    {
      "cell_type": "code",
      "execution_count": null,
      "id": "d4781858",
      "metadata": {
        "id": "d4781858"
      },
      "outputs": [],
      "source": [
        "from numpy import array\n",
        "from numpy import asarray\n",
        "from numpy import zeros\n",
        "embeddings_dictionary = dict()\n",
        "glove_file = open(\"glove.6B.100d.txt\", encoding=\"utf8\")\n",
        "for line in glove_file:\n",
        "    records = line.split()\n",
        "    word = records[0]\n",
        "    vector_dimensions = asarray(records[1:],dtype='float32')\n",
        "    embeddings_dictionary [word] = vector_dimensions\n",
        "glove_file.close()\n"
      ]
    },
    {
      "cell_type": "code",
      "execution_count": null,
      "id": "81eaba2d",
      "metadata": {
        "id": "81eaba2d",
        "outputId": "b3e8882b-5b1f-4be7-d714-fbfeda0c55a3"
      },
      "outputs": [
        {
          "name": "stdout",
          "output_type": "stream",
          "text": [
            "400000\n"
          ]
        }
      ],
      "source": [
        "print(len(embeddings_dictionary))\n"
      ]
    },
    {
      "cell_type": "code",
      "execution_count": null,
      "id": "eaf07ada",
      "metadata": {
        "id": "eaf07ada"
      },
      "outputs": [],
      "source": [
        "embedding_matrix = zeros((vocab_size, 100))\n",
        "for word, index in tokenizer.word_index.items():\n",
        "    embedding_vector = embeddings_dictionary.get(word)\n",
        "    if embedding_vector is not None:\n",
        "        embedding_matrix[index] = embedding_vector"
      ]
    },
    {
      "cell_type": "code",
      "execution_count": null,
      "id": "aaf00185",
      "metadata": {
        "id": "aaf00185",
        "outputId": "ea9d30fd-2105-4ea6-c81f-4e6d6bb5182b"
      },
      "outputs": [
        {
          "name": "stdout",
          "output_type": "stream",
          "text": [
            "92547\n"
          ]
        }
      ],
      "source": [
        "print(len(embedding_matrix))"
      ]
    },
    {
      "cell_type": "markdown",
      "id": "f79e4a53",
      "metadata": {
        "id": "f79e4a53"
      },
      "source": [
        "## A. Classification avec un simple réseau de neurones"
      ]
    },
    {
      "cell_type": "code",
      "execution_count": null,
      "id": "42fbd5ae",
      "metadata": {
        "id": "42fbd5ae",
        "outputId": "cebcaee8-1bb4-4687-96e3-aec8ba4af368"
      },
      "outputs": [
        {
          "name": "stdout",
          "output_type": "stream",
          "text": [
            "Epoch 1/6\n",
            "250/250 [==============================] - 2s 5ms/step - loss: 0.6026 - acc: 0.6746 - val_loss: 0.5512 - val_acc: 0.7134\n",
            "Epoch 2/6\n",
            "250/250 [==============================] - 1s 4ms/step - loss: 0.4940 - acc: 0.7615 - val_loss: 0.5515 - val_acc: 0.7204\n",
            "Epoch 3/6\n",
            "250/250 [==============================] - 1s 5ms/step - loss: 0.4576 - acc: 0.7888 - val_loss: 0.5176 - val_acc: 0.7423\n",
            "Epoch 4/6\n",
            "250/250 [==============================] - 1s 4ms/step - loss: 0.4366 - acc: 0.7988 - val_loss: 0.5240 - val_acc: 0.7451\n",
            "Epoch 5/6\n",
            "250/250 [==============================] - 1s 4ms/step - loss: 0.4213 - acc: 0.8081 - val_loss: 0.5284 - val_acc: 0.7410\n",
            "Epoch 6/6\n",
            "250/250 [==============================] - 1s 5ms/step - loss: 0.4108 - acc: 0.8138 - val_loss: 0.6144 - val_acc: 0.7115\n"
          ]
        }
      ],
      "source": [
        "model = Sequential()\n",
        "\n",
        "# Ajout de la couche Embedding\n",
        "model.add(Embedding(vocab_size, 100, weights=[embedding_matrix], input_length=maxlen, trainable=False))\n",
        "\n",
        "# Ajout de la couche Flatten\n",
        "model.add(Flatten())\n",
        "\n",
        "# Ajout de la couche Dense\n",
        "model.add(Dense(units=1, activation='sigmoid'))\n",
        "\n",
        "# Compilation du modèle\n",
        "model.compile(loss='binary_crossentropy', optimizer='adam', metrics=['acc'])\n",
        "\n",
        "# Entraînement du modèle\n",
        "history=model.fit(X_train, y_train, epochs=6, batch_size=128, verbose=1, validation_split=0.2)\n"
      ]
    },
    {
      "cell_type": "code",
      "execution_count": null,
      "id": "21e86abc",
      "metadata": {
        "id": "21e86abc",
        "outputId": "ed39a306-0f3f-48f0-ded6-695cfa1b3e9f"
      },
      "outputs": [
        {
          "name": "stdout",
          "output_type": "stream",
          "text": [
            "313/313 [==============================] - 1s 2ms/step - loss: 0.6192 - acc: 0.7158\n",
            "Test Score: 0.6191900968551636\n",
            "Test Accuracy: 0.7157999873161316\n"
          ]
        }
      ],
      "source": [
        "score = model.evaluate(X_test, y_test, verbose=1)\n",
        "print(\"Test Score:\", score[0])\n",
        "print(\"Test Accuracy:\", score[1])"
      ]
    },
    {
      "cell_type": "code",
      "execution_count": null,
      "id": "28000c18",
      "metadata": {
        "id": "28000c18",
        "outputId": "3081c57b-6acd-453d-eda6-bbfcc29d69fc"
      },
      "outputs": [
        {
          "data": {
            "image/png": "[encoded data removed]",
            "text/plain": [
              "<Figure size 640x480 with 1 Axes>"
            ]
          },
          "metadata": {},
          "output_type": "display_data"
        },
        {
          "data": {
            "image/png": "[encoded data removed]",
            "text/plain": [
              "<Figure size 640x480 with 1 Axes>"
            ]
          },
          "metadata": {},
          "output_type": "display_data"
        }
      ],
      "source": [
        "plt.plot(history.history['acc'])\n",
        "plt.plot(history.history['val_acc'])\n",
        "plt.title('model accuracy')\n",
        "plt.ylabel('accuracy')\n",
        "plt.xlabel('epoch')\n",
        "plt.legend(['train','test'], loc='upper left')\n",
        "plt.show()\n",
        "plt.plot(history.history['loss'])\n",
        "plt.plot(history.history['val_loss'])\n",
        "plt.title('model loss')\n",
        "plt.ylabel('loss')\n",
        "plt.xlabel('epoch')\n",
        "plt.legend(['train','test'], loc='upper left')\n",
        "plt.show()"
      ]
    },
    {
      "cell_type": "markdown",
      "id": "813e56ce",
      "metadata": {
        "id": "813e56ce"
      },
      "source": [
        "Il a été observé qu'il y a du sur-apprentissage, en particulier vers la fin de l'époque 1, où laccuracy du test commence à diminuer tandis que celle de l'entraînement continue d'augmenter fortement.\n",
        "comme solution je propose early stopping a lepoch 3\n",
        "\n",
        "\n",
        "\n",
        "\n",
        "\n"
      ]
    },
    {
      "cell_type": "markdown",
      "id": "7c072248",
      "metadata": {
        "id": "7c072248"
      },
      "source": [
        "## B. Classification avec un réseau de neurones convolutionnel"
      ]
    },
    {
      "cell_type": "code",
      "execution_count": null,
      "id": "365c3f83",
      "metadata": {
        "id": "365c3f83",
        "outputId": "bd7df4b8-39ac-416f-8ed2-44fa259d9cc9"
      },
      "outputs": [
        {
          "name": "stdout",
          "output_type": "stream",
          "text": [
            "Epoch 1/6\n",
            "250/250 [==============================] - 9s 35ms/step - loss: 0.4984 - acc: 0.7548 - val_loss: 0.4100 - val_acc: 0.8098\n",
            "Epoch 2/6\n",
            "250/250 [==============================] - 9s 35ms/step - loss: 0.3715 - acc: 0.8353 - val_loss: 0.3870 - val_acc: 0.8227\n",
            "Epoch 3/6\n",
            "250/250 [==============================] - 9s 35ms/step - loss: 0.3153 - acc: 0.8693 - val_loss: 0.3542 - val_acc: 0.8391\n",
            "Epoch 4/6\n",
            "250/250 [==============================] - 9s 36ms/step - loss: 0.2779 - acc: 0.8887 - val_loss: 0.3563 - val_acc: 0.8406\n",
            "Epoch 5/6\n",
            "250/250 [==============================] - 10s 39ms/step - loss: 0.2442 - acc: 0.9063 - val_loss: 0.3421 - val_acc: 0.8495\n",
            "Epoch 6/6\n",
            "250/250 [==============================] - 9s 35ms/step - loss: 0.2176 - acc: 0.9204 - val_loss: 0.3521 - val_acc: 0.8460\n"
          ]
        }
      ],
      "source": [
        "# Créer un modèle séquentiel\n",
        "model = Sequential()\n",
        "\n",
        "# Ajouter une couche Embedding\n",
        "model.add(Embedding(vocab_size, 100, weights=[embedding_matrix], input_length=maxlen, trainable=False))\n",
        "\n",
        "# Ajouter une couche Conv1D\n",
        "model.add(Conv1D(filters=128, kernel_size=5, activation='relu'))\n",
        "\n",
        "# Ajouter une couche MaxPooling1D\n",
        "model.add(GlobalMaxPooling1D())\n",
        "\n",
        "# Ajouter une couche Dense\n",
        "model.add(Dense(units=1, activation='sigmoid'))\n",
        "\n",
        "# Compiler le modèle avec les paramètres donnés\n",
        "model.compile(loss='binary_crossentropy', optimizer='adam', metrics='acc')\n",
        "\n",
        "# Entraîner le modèle avec les paramètres donnés\n",
        "history = model.fit(X_train, y_train , epochs=6, batch_size=128, validation_split=0.2, verbose=1)\n"
      ]
    },
    {
      "cell_type": "code",
      "execution_count": null,
      "id": "e9346df3",
      "metadata": {
        "id": "e9346df3",
        "outputId": "90200743-8edb-490a-8041-0994180f3903"
      },
      "outputs": [
        {
          "name": "stdout",
          "output_type": "stream",
          "text": [
            "313/313 [==============================] - 1s 4ms/step - loss: 0.3505 - acc: 0.8461\n",
            "Test Score: 0.3504735827445984\n",
            "Test Accuracy: 0.8460999727249146\n"
          ]
        }
      ],
      "source": [
        "score = model.evaluate(X_test, y_test, verbose=1)\n",
        "print(\"Test Score:\", score[0])\n",
        "print(\"Test Accuracy:\", score[1])"
      ]
    },
    {
      "cell_type": "code",
      "execution_count": null,
      "id": "c71bd2be",
      "metadata": {
        "id": "c71bd2be",
        "outputId": "26bed47e-f73f-4064-d9db-80bc4f8816f6"
      },
      "outputs": [
        {
          "data": {
            "image/png": "[encoded data removed]",
            "text/plain": [
              "<Figure size 640x480 with 1 Axes>"
            ]
          },
          "metadata": {},
          "output_type": "display_data"
        },
        {
          "data": {
            "image/png": "[encoded data removed]",
            "text/plain": [
              "<Figure size 640x480 with 1 Axes>"
            ]
          },
          "metadata": {},
          "output_type": "display_data"
        }
      ],
      "source": [
        "plt.plot(history.history['acc'])\n",
        "plt.plot(history.history['val_acc'])\n",
        "plt.title('model accuracy')\n",
        "plt.ylabel('accuracy')\n",
        "plt.xlabel('epoch')\n",
        "plt.legend(['train','test'], loc='upper left')\n",
        "plt.show()\n",
        "plt.plot(history.history['loss'])\n",
        "plt.plot(history.history['val_loss'])\n",
        "plt.title('model loss')\n",
        "plt.ylabel('loss')\n",
        "plt.xlabel('epoch')\n",
        "plt.legend(['train','test'], loc='upper left')\n",
        "plt.show()"
      ]
    },
    {
      "cell_type": "markdown",
      "id": "4e3ac3e2",
      "metadata": {
        "id": "4e3ac3e2"
      },
      "source": [
        "On constate aussi un phénomène de sur-apprentissage"
      ]
    },
    {
      "cell_type": "markdown",
      "id": "c4145313",
      "metadata": {
        "id": "c4145313"
      },
      "source": [
        "## C. Classification avec un réseau de neurones récurrent (LSTM)"
      ]
    },
    {
      "cell_type": "code",
      "execution_count": null,
      "id": "fcfe79a8",
      "metadata": {
        "id": "fcfe79a8",
        "outputId": "44188050-810b-4edf-e3dc-9e1b427863b4"
      },
      "outputs": [
        {
          "name": "stdout",
          "output_type": "stream",
          "text": [
            "Epoch 1/6\n",
            "250/250 [==============================] - 67s 262ms/step - loss: 0.5436 - acc: 0.7172 - val_loss: 0.3796 - val_acc: 0.8372\n",
            "Epoch 2/6\n",
            "250/250 [==============================] - 63s 251ms/step - loss: 0.3378 - acc: 0.8559 - val_loss: 0.3297 - val_acc: 0.8630\n",
            "Epoch 3/6\n",
            "250/250 [==============================] - 64s 254ms/step - loss: 0.2831 - acc: 0.8834 - val_loss: 0.3415 - val_acc: 0.8566\n",
            "Epoch 4/6\n",
            "250/250 [==============================] - 63s 253ms/step - loss: 0.2520 - acc: 0.9013 - val_loss: 0.3470 - val_acc: 0.8591\n",
            "Epoch 5/6\n",
            "250/250 [==============================] - 64s 256ms/step - loss: 0.2321 - acc: 0.9088 - val_loss: 0.3384 - val_acc: 0.8577\n",
            "Epoch 6/6\n",
            "250/250 [==============================] - 73s 293ms/step - loss: 0.2076 - acc: 0.9212 - val_loss: 0.3580 - val_acc: 0.8608\n"
          ]
        }
      ],
      "source": [
        "# Créer le modèle\n",
        "model = Sequential()\n",
        "\n",
        "# Ajouter la couche Embedding\n",
        "model.add(Embedding(vocab_size, 100, weights=[embedding_matrix], input_length=maxlen))\n",
        "\n",
        "# Ajouter la couche LSTM\n",
        "model.add(LSTM(units=128))\n",
        "\n",
        "# Ajouter la couche Dense\n",
        "model.add(Dense(units=1, activation='sigmoid'))\n",
        "\n",
        "# Compiler le modèle\n",
        "model.compile(loss='binary_crossentropy', optimizer='adam', metrics=['acc'])\n",
        "\n",
        "# Entraîner le modèle\n",
        "history = model.fit(X_train, y_train, epochs=6, batch_size=128, verbose=1, validation_split=0.2)"
      ]
    },
    {
      "cell_type": "code",
      "execution_count": null,
      "id": "f269d2db",
      "metadata": {
        "id": "f269d2db",
        "outputId": "68fc31a5-9c10-4e2b-fd74-963c0bbb48e2"
      },
      "outputs": [
        {
          "name": "stdout",
          "output_type": "stream",
          "text": [
            "313/313 [==============================] - 9s 28ms/step - loss: 0.3353 - acc: 0.8699\n",
            "Test Score: 0.33530059456825256\n",
            "Test Accuracy: 0.8698999881744385\n"
          ]
        }
      ],
      "source": [
        "score = model.evaluate(X_test, y_test, verbose=1)\n",
        "print(\"Test Score:\", score[0])\n",
        "print(\"Test Accuracy:\", score[1])"
      ]
    },
    {
      "cell_type": "code",
      "execution_count": null,
      "id": "f306e92d",
      "metadata": {
        "id": "f306e92d",
        "outputId": "2091cd36-d147-4b4b-9729-a12dc20cf06f"
      },
      "outputs": [
        {
          "data": {
            "image/png": "[encoded data removed]",
            "text/plain": [
              "<Figure size 640x480 with 1 Axes>"
            ]
          },
          "metadata": {},
          "output_type": "display_data"
        },
        {
          "data": {
            "image/png": "[encoded data removed]",
            "text/plain": [
              "<Figure size 640x480 with 1 Axes>"
            ]
          },
          "metadata": {},
          "output_type": "display_data"
        }
      ],
      "source": [
        "plt.plot(history.history['acc'])\n",
        "plt.plot(history.history['val_acc'])\n",
        "plt.title('model accuracy')\n",
        "plt.ylabel('accuracy')\n",
        "plt.xlabel('epoch')\n",
        "plt.legend(['train','test'], loc='upper left')\n",
        "plt.show()\n",
        "plt.plot(history.history['loss'])\n",
        "plt.plot(history.history['val_loss'])\n",
        "plt.title('model loss')\n",
        "plt.ylabel('loss')\n",
        "plt.xlabel('epoch')\n",
        "plt.legend(['train','test'], loc='upper left')\n",
        "plt.show()"
      ]
    },
    {
      "cell_type": "markdown",
      "id": "07e08d2e",
      "metadata": {
        "id": "07e08d2e"
      },
      "source": [
        "lstm et cnn ont meme resultat"
      ]
    },
    {
      "cell_type": "code",
      "execution_count": null,
      "id": "9733c39a",
      "metadata": {
        "id": "9733c39a",
        "outputId": "b64c01bd-b3d6-481b-f773-00e9d99e88ca"
      },
      "outputs": [
        {
          "name": "stdout",
          "output_type": "stream",
          "text": [
            "Return to the th Chamber is one of those classic Kung Fu movies which Shaw produces back in the and whose genre is equivalent to the spaghetti westerns of Hollywood and the protagonist Gordon Liu the counterpart to the western Clint Eastwood Digitally remastered and new print made for the Fantastic Film Fest this is Presented in Shaw Scope just like the good old days This film is simple story of good versus evil told in acts which more or less sums up the narrative of martial arts films in that era Act One sets up the premise Workers in dye mill of small village are unhappy with their lot having their wages cut by by incoming manchu gangsters They can do much about their exploitation because none of them are martial arts skilled to take on the gangsters and their boss At first they had minor success in getting Liu to impersonate highly skilled Shaolin monk one of the best comedy sequences but their rouse got exposed when they pushed the limit of credibility by impersonating one too many times Act Two shows the protagonist wanting to get back at the mob However without real martial arts he embarks on journey to Shaolin Temple to try and infiltrate and learn martial arts on the sly After some slapstick moments he finally gets accepted by the abbot whom he impersonated but is disappointed at the teaching methods kinda like Mr Miyagi style in Karate Kid but instead of painting fences he gets to erect scaffoldings all around the temple Nothing can keep good man down and he unwittingly builds strength endurance and learns kung fu the unorthodox way Act Three is where the fight fest begins With cheesy sound effects each obvious non contact on film is given the maximum impact treatment But it is rather refreshing watching the fight scenes here with its wide angled shots to highlight clarity and detail between the sparring partners and the use of slow motion only to showcase stunts in different angles You may find the speed of fights tad too slow with some pause in between moves but with Yuen Wo Ping and his style being used ad nausem in Hollywood flicks they sure don make fight scenes like they used to Return to the th chamber gets repeat screening on Monday so if you re game for nostalgic trip down memory lane what are you waiting for \n",
            "1\n"
          ]
        }
      ],
      "source": [
        "instance =X[50]\n",
        "print(instance)\n",
        "print(y[50])"
      ]
    },
    {
      "cell_type": "code",
      "execution_count": null,
      "id": "3b4b9c34",
      "metadata": {
        "id": "3b4b9c34",
        "outputId": "70d41f59-2095-4ba9-db3e-bd04de4a3c72"
      },
      "outputs": [
        {
          "name": "stdout",
          "output_type": "stream",
          "text": [
            "1/1 [==============================] - 0s 473ms/step\n",
            "The instance is positive\n"
          ]
        }
      ],
      "source": [
        "instance = tokenizer.texts_to_sequences(instance)\n",
        "\n",
        "flat_list = []\n",
        "for sublist in instance:\n",
        "    for item in sublist:\n",
        "        flat_list.append(item)\n",
        "\n",
        "flat_list = [flat_list]\n",
        "\n",
        "instance = pad_sequences(flat_list, padding='post', maxlen=maxlen)\n",
        "\n",
        "prediction = model.predict(instance)\n",
        "\n",
        "if(prediction>0.5):\n",
        "    print('The instance is positive')\n",
        "else: print('the instance is negative')"
      ]
    },
    {
      "cell_type": "markdown",
      "id": "43aa8fed",
      "metadata": {
        "id": "43aa8fed"
      },
      "source": [
        "La prédiction est correcte"
      ]
    },
    {
      "cell_type": "markdown",
      "id": "0dbf9acd",
      "metadata": {
        "id": "0dbf9acd"
      },
      "source": [
        "# Compte Rendu"
      ]
    },
    {
      "cell_type": "markdown",
      "id": "ec79d7ae",
      "metadata": {
        "id": "ec79d7ae"
      },
      "source": [
        "Pour commencer, nous allons créer une fonction pour chaque modèle (LSTM, GRU et RNN+CNN) qui prendra en entrée les données d'entraînement et de test (X_train, y_train, X_test, y_test) et qui renverra la précision (accuracy) obtenue lors du test."
      ]
    },
    {
      "cell_type": "code",
      "execution_count": null,
      "id": "5296b3b9",
      "metadata": {
        "id": "5296b3b9"
      },
      "outputs": [],
      "source": [
        "#LSTM\n",
        "def train_and_evaluate_LTSM_model(embedding_matrix_method,embedding_dim=100):\n",
        "    model = Sequential()\n",
        "    model.add(Embedding(vocab_size, embedding_dim, weights=[embedding_matrix_method], input_length=maxlen))\n",
        "    model.add(LSTM(units=128))\n",
        "    model.add(Dense(units=1, activation='sigmoid'))\n",
        "    model.compile(loss='binary_crossentropy', optimizer='adam', metrics=['acc'])\n",
        "    history = model.fit(X_train, y_train, epochs=6, batch_size=128, verbose=1, validation_split=0.2)\n",
        "    score = model.evaluate(X_test, y_test, verbose=1)\n",
        "    return score[1]\n"
      ]
    },
    {
      "cell_type": "code",
      "execution_count": null,
      "id": "d2a34d03",
      "metadata": {
        "id": "d2a34d03"
      },
      "outputs": [],
      "source": [
        "#GRU\n",
        "def train_and_evaluate_GRU_model(embedding_matrix_method, embedding_dim=100):\n",
        "    model = Sequential()\n",
        "    model.add(Embedding(vocab_size, embedding_dim, weights=[embedding_matrix_method], input_length=maxlen))\n",
        "    model.add(GRU(32))\n",
        "    model.add(Dense(1, activation='sigmoid'))\n",
        "    model.compile(optimizer='adam', loss='binary_crossentropy', metrics=['acc'])\n",
        "    history = model.fit(X_train, y_train, epochs=10, batch_size=128, validation_split=0.2)\n",
        "    score= model.evaluate(X_test, y_test)\n",
        "    return score[1]"
      ]
    },
    {
      "cell_type": "code",
      "execution_count": null,
      "id": "7bde23da",
      "metadata": {
        "id": "7bde23da"
      },
      "outputs": [],
      "source": [
        "#RNN + CNN\n",
        "from keras.layers import Reshape\n",
        "def train_and_evaluate_RNN_CNN_model(embedding_matrix_method, embedding_dim=100):\n",
        "    # define the model\n",
        "    model = Sequential()\n",
        "    model.add(Embedding(vocab_size, embedding_dim, weights=[embedding_matrix_method], input_length=maxlen, trainable=False))\n",
        "    model.add(Conv1D(filters=128, kernel_size=5, activation='relu'))\n",
        "    model.add(GlobalMaxPooling1D())\n",
        "    model.add(Flatten())\n",
        "    model.add(Reshape((-1, 128)))\n",
        "    model.add(GRU(units=128))\n",
        "    model.add(Dense(units=1, activation='sigmoid'))\n",
        "\n",
        "    # compile the model\n",
        "    model.compile(loss='binary_crossentropy', optimizer='adam', metrics=['accuracy'])\n",
        "\n",
        "    # train the model\n",
        "    history = model.fit(X_train, y_train, epochs=10, batch_size=128, verbose=1, validation_split=0.2, )\n",
        "\n",
        "    # evaluate the model on the test set\n",
        "    score= model.evaluate(X_test, y_test)\n",
        "    return score[1]"
      ]
    },
    {
      "cell_type": "markdown",
      "id": "0281b756",
      "metadata": {
        "id": "0281b756"
      },
      "source": [
        "Maintenant on va définir l'embedding_matrix_method à utiliser pour chaque méthod d\"Embedding : Glove, Wor2vec, Fasttext et Tf-idf"
      ]
    },
    {
      "cell_type": "code",
      "execution_count": null,
      "id": "5dc1b2a3",
      "metadata": {
        "id": "5dc1b2a3"
      },
      "outputs": [],
      "source": [
        "embedding_matrix_glove= embedding_matrix\n",
        "embedding_dim_glove=100"
      ]
    },
    {
      "cell_type": "code",
      "execution_count": null,
      "id": "00deb764",
      "metadata": {
        "id": "00deb764"
      },
      "outputs": [],
      "source": [
        "#Word2vec\n",
        "from gensim.models import Word2Vec\n",
        "w2v_model = Word2Vec(sentences=X, window=5, min_count=1)"
      ]
    },
    {
      "cell_type": "code",
      "execution_count": null,
      "id": "725518dc",
      "metadata": {
        "id": "725518dc"
      },
      "outputs": [],
      "source": [
        "embedding_matrix_w2v = np.zeros((vocab_size, 100))\n",
        "for word, i in tokenizer.word_index.items():\n",
        "    if word in enumerate(w2v_model.wv.key_to_index):\n",
        "        embedding_matrix_w2v[i] = w2v_model[word]"
      ]
    },
    {
      "cell_type": "code",
      "execution_count": null,
      "id": "ba3c934f",
      "metadata": {
        "id": "ba3c934f"
      },
      "outputs": [],
      "source": [
        "from gensim.models import FastText\n",
        "fasttext_model= FastText(sentences=X, min_count=1 , window=5)"
      ]
    },
    {
      "cell_type": "code",
      "execution_count": null,
      "id": "2dae32f1",
      "metadata": {
        "id": "2dae32f1"
      },
      "outputs": [],
      "source": [
        "# get the embedding matrix\n",
        "embedding_matrix_fasttext = np.zeros((vocab_size, 100))\n",
        "for word, i in tokenizer.word_index.items():\n",
        "    embedding_vector = fasttext_model.wv[word]\n",
        "    if embedding_vector is not None:\n",
        "        embedding_matrix_fasttext[i] = embedding_vector\n"
      ]
    },
    {
      "cell_type": "code",
      "execution_count": null,
      "id": "5224fb2c",
      "metadata": {
        "id": "5224fb2c"
      },
      "outputs": [],
      "source": [
        "from sklearn.feature_extraction.text import TfidfVectorizer\n",
        "tfidf = TfidfVectorizer()\n",
        "tfidf.fit(X)\n",
        "vocab = tfidf.vocabulary_\n",
        "idf = tfidf.idf_\n",
        "embedding_matrix_tfidf = np.zeros((vocab_size, 100))\n",
        "for word, i in tokenizer.word_index.items():\n",
        "    if word in vocab:\n",
        "        tfidf_weight = idf[vocab[word]]\n",
        "        embedding_matrix_tfidf[i] = tfidf.transform([word]).toarray()[0][:100] * tfidf_weight\n",
        "train_and_evaluate_LTSM_model(embedding_matrix_glove), train_and_evaluate_GRU_model(embedding_matrix_glove),"
      ]
    },
    {
      "cell_type": "code",
      "execution_count": null,
      "id": "991c6408",
      "metadata": {
        "scrolled": true,
        "id": "991c6408",
        "outputId": "dac61c12-b4db-4563-91bb-334f96df4f02"
      },
      "outputs": [
        {
          "name": "stdout",
          "output_type": "stream",
          "text": [
            "Epoch 1/6\n",
            "250/250 [==============================] - 88s 346ms/step - loss: 0.4937 - acc: 0.7524 - val_loss: 0.3743 - val_acc: 0.8344\n",
            "Epoch 2/6\n",
            "250/250 [==============================] - 87s 347ms/step - loss: 0.3298 - acc: 0.8584 - val_loss: 0.3272 - val_acc: 0.8606\n",
            "Epoch 3/6\n",
            "250/250 [==============================] - 82s 327ms/step - loss: 0.2886 - acc: 0.8826 - val_loss: 0.3232 - val_acc: 0.8624\n",
            "Epoch 4/6\n",
            "250/250 [==============================] - 86s 344ms/step - loss: 0.2604 - acc: 0.8963 - val_loss: 0.3207 - val_acc: 0.8630\n",
            "Epoch 5/6\n",
            "250/250 [==============================] - 92s 366ms/step - loss: 0.2324 - acc: 0.9074 - val_loss: 0.3247 - val_acc: 0.8633\n",
            "Epoch 6/6\n",
            "250/250 [==============================] - 80s 320ms/step - loss: 0.2086 - acc: 0.9195 - val_loss: 0.3620 - val_acc: 0.8621\n",
            "313/313 [==============================] - 11s 36ms/step - loss: 0.3425 - acc: 0.8663\n",
            "Epoch 1/10\n",
            "250/250 [==============================] - 36s 138ms/step - loss: 0.5324 - acc: 0.7099 - val_loss: 0.3581 - val_acc: 0.8457\n",
            "Epoch 2/10\n",
            "250/250 [==============================] - 40s 159ms/step - loss: 0.3176 - acc: 0.8653 - val_loss: 0.3167 - val_acc: 0.8675\n",
            "Epoch 3/10\n",
            "250/250 [==============================] - 38s 154ms/step - loss: 0.2682 - acc: 0.8913 - val_loss: 0.3150 - val_acc: 0.8650\n",
            "Epoch 4/10\n",
            "250/250 [==============================] - 39s 155ms/step - loss: 0.2391 - acc: 0.9056 - val_loss: 0.3184 - val_acc: 0.8691\n",
            "Epoch 5/10\n",
            "250/250 [==============================] - 37s 150ms/step - loss: 0.2122 - acc: 0.9203 - val_loss: 0.3294 - val_acc: 0.8641\n",
            "Epoch 6/10\n",
            "250/250 [==============================] - 37s 146ms/step - loss: 0.1882 - acc: 0.9303 - val_loss: 0.3574 - val_acc: 0.8624\n",
            "Epoch 7/10\n",
            "250/250 [==============================] - 38s 151ms/step - loss: 0.1651 - acc: 0.9412 - val_loss: 0.3895 - val_acc: 0.8519\n",
            "Epoch 8/10\n",
            "250/250 [==============================] - 38s 153ms/step - loss: 0.1371 - acc: 0.9539 - val_loss: 0.4132 - val_acc: 0.8593\n",
            "Epoch 9/10\n",
            "250/250 [==============================] - 33s 132ms/step - loss: 0.1114 - acc: 0.9653 - val_loss: 0.4720 - val_acc: 0.8539\n",
            "Epoch 10/10\n",
            "250/250 [==============================] - 31s 124ms/step - loss: 0.0849 - acc: 0.9764 - val_loss: 0.4885 - val_acc: 0.8499\n",
            "313/313 [==============================] - 3s 9ms/step - loss: 0.4564 - acc: 0.8520\n",
            "Epoch 1/10\n",
            "250/250 [==============================] - 11s 38ms/step - loss: 0.4863 - accuracy: 0.7554 - val_loss: 0.3978 - val_accuracy: 0.8156\n",
            "Epoch 2/10\n",
            "250/250 [==============================] - 9s 38ms/step - loss: 0.3472 - accuracy: 0.8482 - val_loss: 0.3579 - val_accuracy: 0.8356\n",
            "Epoch 3/10\n",
            "250/250 [==============================] - 9s 37ms/step - loss: 0.2799 - accuracy: 0.8830 - val_loss: 0.3609 - val_accuracy: 0.8418\n",
            "Epoch 4/10\n",
            "250/250 [==============================] - 9s 37ms/step - loss: 0.2138 - accuracy: 0.9161 - val_loss: 0.6126 - val_accuracy: 0.7778\n",
            "Epoch 5/10\n",
            "250/250 [==============================] - 9s 36ms/step - loss: 0.1627 - accuracy: 0.9361 - val_loss: 0.4385 - val_accuracy: 0.8335\n",
            "Epoch 6/10\n",
            "250/250 [==============================] - 9s 38ms/step - loss: 0.1003 - accuracy: 0.9635 - val_loss: 0.5239 - val_accuracy: 0.8294\n",
            "Epoch 7/10\n",
            "250/250 [==============================] - 9s 37ms/step - loss: 0.0669 - accuracy: 0.9778 - val_loss: 0.6697 - val_accuracy: 0.8166\n",
            "Epoch 8/10\n",
            "250/250 [==============================] - 9s 36ms/step - loss: 0.0710 - accuracy: 0.9750 - val_loss: 0.6951 - val_accuracy: 0.8186\n",
            "Epoch 9/10\n",
            "250/250 [==============================] - 10s 38ms/step - loss: 0.0217 - accuracy: 0.9948 - val_loss: 0.7977 - val_accuracy: 0.8235\n",
            "Epoch 10/10\n",
            "250/250 [==============================] - 9s 36ms/step - loss: 0.0068 - accuracy: 0.9997 - val_loss: 0.8069 - val_accuracy: 0.8294\n",
            "313/313 [==============================] - 1s 4ms/step - loss: 0.7676 - accuracy: 0.8346\n"
          ]
        },
        {
          "data": {
            "text/html": [
              "<div>\n",
              "<style scoped>\n",
              "    .dataframe tbody tr th:only-of-type {\n",
              "        vertical-align: middle;\n",
              "    }\n",
              "\n",
              "    .dataframe tbody tr th {\n",
              "        vertical-align: top;\n",
              "    }\n",
              "\n",
              "    .dataframe thead th {\n",
              "        text-align: right;\n",
              "    }\n",
              "</style>\n",
              "<table border=\"1\" class=\"dataframe\">\n",
              "  <thead>\n",
              "    <tr style=\"text-align: right;\">\n",
              "      <th></th>\n",
              "      <th>Glove</th>\n",
              "    </tr>\n",
              "  </thead>\n",
              "  <tbody>\n",
              "    <tr>\n",
              "      <th>LTSM</th>\n",
              "      <td>0.8663</td>\n",
              "    </tr>\n",
              "    <tr>\n",
              "      <th>GRU</th>\n",
              "      <td>0.8520</td>\n",
              "    </tr>\n",
              "    <tr>\n",
              "      <th>RNN + CNN</th>\n",
              "      <td>0.8346</td>\n",
              "    </tr>\n",
              "  </tbody>\n",
              "</table>\n",
              "</div>"
            ],
            "text/plain": [
              "            Glove\n",
              "LTSM       0.8663\n",
              "GRU        0.8520\n",
              "RNN + CNN  0.8346"
            ]
          },
          "execution_count": 59,
          "metadata": {},
          "output_type": "execute_result"
        }
      ],
      "source": [
        "results=pd.DataFrame()\n",
        "results.index = ['LTSM', 'GRU', 'RNN + CNN']\n",
        "results['Glove']= [ train_and_evaluate_LTSM_model(embedding_matrix_glove), train_and_evaluate_GRU_model(embedding_matrix_glove), train_and_evaluate_RNN_CNN_model(embedding_matrix_glove)]\n",
        "results"
      ]
    },
    {
      "cell_type": "code",
      "execution_count": null,
      "id": "83634f19",
      "metadata": {
        "id": "83634f19",
        "outputId": "143f08e8-8372-44c0-e98e-b79f21f38e53"
      },
      "outputs": [
        {
          "name": "stdout",
          "output_type": "stream",
          "text": [
            "Epoch 1/6\n",
            "250/250 [==============================] - 60s 235ms/step - loss: 0.4108 - acc: 0.8080 - val_loss: 0.3462 - val_acc: 0.8500\n",
            "Epoch 2/6\n",
            "250/250 [==============================] - 59s 235ms/step - loss: 0.3009 - acc: 0.8783 - val_loss: 0.3349 - val_acc: 0.8530\n",
            "Epoch 3/6\n",
            "250/250 [==============================] - 58s 232ms/step - loss: 0.2654 - acc: 0.8933 - val_loss: 0.3465 - val_acc: 0.8494\n",
            "Epoch 4/6\n",
            "250/250 [==============================] - 60s 241ms/step - loss: 0.2312 - acc: 0.9069 - val_loss: 0.3616 - val_acc: 0.8410\n",
            "Epoch 5/6\n",
            "250/250 [==============================] - 65s 261ms/step - loss: 0.2071 - acc: 0.9189 - val_loss: 0.3800 - val_acc: 0.8397\n",
            "Epoch 6/6\n",
            "250/250 [==============================] - 66s 263ms/step - loss: 0.1849 - acc: 0.9290 - val_loss: 0.4126 - val_acc: 0.8410\n",
            "313/313 [==============================] - 9s 29ms/step - loss: 0.3977 - acc: 0.8445\n",
            "Epoch 1/10\n",
            "250/250 [==============================] - 38s 144ms/step - loss: 0.4682 - acc: 0.7638 - val_loss: 0.3525 - val_acc: 0.8489\n",
            "Epoch 2/10\n",
            "250/250 [==============================] - 35s 138ms/step - loss: 0.3036 - acc: 0.8746 - val_loss: 0.3447 - val_acc: 0.8496\n",
            "Epoch 3/10\n",
            "250/250 [==============================] - 34s 138ms/step - loss: 0.2691 - acc: 0.8899 - val_loss: 0.3400 - val_acc: 0.8520\n",
            "Epoch 4/10\n",
            "250/250 [==============================] - 34s 137ms/step - loss: 0.2396 - acc: 0.9068 - val_loss: 0.3564 - val_acc: 0.8510\n",
            "Epoch 5/10\n",
            "250/250 [==============================] - 35s 139ms/step - loss: 0.2090 - acc: 0.9184 - val_loss: 0.3820 - val_acc: 0.8428\n",
            "Epoch 6/10\n",
            "250/250 [==============================] - 35s 140ms/step - loss: 0.1835 - acc: 0.9321 - val_loss: 0.4064 - val_acc: 0.8449\n",
            "Epoch 7/10\n",
            "250/250 [==============================] - 35s 139ms/step - loss: 0.1590 - acc: 0.9432 - val_loss: 0.4552 - val_acc: 0.8453\n",
            "Epoch 8/10\n",
            "250/250 [==============================] - 34s 138ms/step - loss: 0.1404 - acc: 0.9519 - val_loss: 0.4601 - val_acc: 0.8378\n",
            "Epoch 9/10\n",
            "250/250 [==============================] - 35s 139ms/step - loss: 0.1246 - acc: 0.9579 - val_loss: 0.4905 - val_acc: 0.8349\n",
            "Epoch 10/10\n",
            "250/250 [==============================] - 35s 138ms/step - loss: 0.1120 - acc: 0.9626 - val_loss: 0.5544 - val_acc: 0.8353\n",
            "313/313 [==============================] - 3s 9ms/step - loss: 0.5363 - acc: 0.8389\n",
            "Epoch 1/10\n",
            "250/250 [==============================] - 12s 42ms/step - loss: 0.6933 - accuracy: 0.4987 - val_loss: 0.6933 - val_accuracy: 0.5000\n",
            "Epoch 2/10\n",
            "250/250 [==============================] - 10s 40ms/step - loss: 0.6932 - accuracy: 0.5020 - val_loss: 0.6932 - val_accuracy: 0.5000\n",
            "Epoch 3/10\n",
            "250/250 [==============================] - 10s 40ms/step - loss: 0.6932 - accuracy: 0.4998 - val_loss: 0.6932 - val_accuracy: 0.5000\n",
            "Epoch 4/10\n",
            "250/250 [==============================] - 10s 40ms/step - loss: 0.6932 - accuracy: 0.4989 - val_loss: 0.6931 - val_accuracy: 0.5000\n",
            "Epoch 5/10\n",
            "250/250 [==============================] - 10s 40ms/step - loss: 0.6932 - accuracy: 0.4973 - val_loss: 0.6931 - val_accuracy: 0.5000\n",
            "Epoch 6/10\n",
            "250/250 [==============================] - 10s 40ms/step - loss: 0.6932 - accuracy: 0.4940 - val_loss: 0.6932 - val_accuracy: 0.5000\n",
            "Epoch 7/10\n",
            "250/250 [==============================] - 10s 40ms/step - loss: 0.6932 - accuracy: 0.4995 - val_loss: 0.6932 - val_accuracy: 0.5000\n",
            "Epoch 8/10\n",
            "250/250 [==============================] - 10s 40ms/step - loss: 0.6932 - accuracy: 0.4975 - val_loss: 0.6932 - val_accuracy: 0.5000\n",
            "Epoch 9/10\n",
            "250/250 [==============================] - 10s 40ms/step - loss: 0.6932 - accuracy: 0.4976 - val_loss: 0.6932 - val_accuracy: 0.5000\n",
            "Epoch 10/10\n",
            "250/250 [==============================] - 10s 40ms/step - loss: 0.6932 - accuracy: 0.4994 - val_loss: 0.6932 - val_accuracy: 0.5000\n",
            "313/313 [==============================] - 2s 5ms/step - loss: 0.6932 - accuracy: 0.4961\n"
          ]
        },
        {
          "data": {
            "text/html": [
              "<div>\n",
              "<style scoped>\n",
              "    .dataframe tbody tr th:only-of-type {\n",
              "        vertical-align: middle;\n",
              "    }\n",
              "\n",
              "    .dataframe tbody tr th {\n",
              "        vertical-align: top;\n",
              "    }\n",
              "\n",
              "    .dataframe thead th {\n",
              "        text-align: right;\n",
              "    }\n",
              "</style>\n",
              "<table border=\"1\" class=\"dataframe\">\n",
              "  <thead>\n",
              "    <tr style=\"text-align: right;\">\n",
              "      <th></th>\n",
              "      <th>Glove</th>\n",
              "      <th>Word2vec</th>\n",
              "    </tr>\n",
              "  </thead>\n",
              "  <tbody>\n",
              "    <tr>\n",
              "      <th>LTSM</th>\n",
              "      <td>0.8663</td>\n",
              "      <td>0.8445</td>\n",
              "    </tr>\n",
              "    <tr>\n",
              "      <th>GRU</th>\n",
              "      <td>0.8520</td>\n",
              "      <td>0.8389</td>\n",
              "    </tr>\n",
              "    <tr>\n",
              "      <th>RNN + CNN</th>\n",
              "      <td>0.8346</td>\n",
              "      <td>0.4961</td>\n",
              "    </tr>\n",
              "  </tbody>\n",
              "</table>\n",
              "</div>"
            ],
            "text/plain": [
              "            Glove  Word2vec\n",
              "LTSM       0.8663    0.8445\n",
              "GRU        0.8520    0.8389\n",
              "RNN + CNN  0.8346    0.4961"
            ]
          },
          "execution_count": 61,
          "metadata": {},
          "output_type": "execute_result"
        }
      ],
      "source": [
        "results['Word2vec']=[train_and_evaluate_LTSM_model(embedding_matrix_w2v), train_and_evaluate_GRU_model(embedding_matrix_w2v),  train_and_evaluate_RNN_CNN_model(embedding_matrix_w2v)]\n",
        "results"
      ]
    },
    {
      "cell_type": "code",
      "execution_count": null,
      "id": "f78fe35f",
      "metadata": {
        "id": "f78fe35f",
        "outputId": "5b81e6a8-10d2-445f-8354-38f6d70f8350"
      },
      "outputs": [
        {
          "name": "stdout",
          "output_type": "stream",
          "text": [
            "Epoch 1/6\n",
            "250/250 [==============================] - 77s 302ms/step - loss: 0.4185 - acc: 0.8005 - val_loss: 0.3373 - val_acc: 0.8524\n",
            "Epoch 2/6\n",
            "250/250 [==============================] - 74s 297ms/step - loss: 0.2938 - acc: 0.8779 - val_loss: 0.3365 - val_acc: 0.8539\n",
            "Epoch 3/6\n",
            "250/250 [==============================] - 74s 295ms/step - loss: 0.2721 - acc: 0.8891 - val_loss: 0.3555 - val_acc: 0.8503\n",
            "Epoch 4/6\n",
            "250/250 [==============================] - 73s 293ms/step - loss: 0.2321 - acc: 0.9068 - val_loss: 0.3809 - val_acc: 0.8520\n",
            "Epoch 5/6\n",
            "250/250 [==============================] - 73s 294ms/step - loss: 0.2041 - acc: 0.9188 - val_loss: 0.3993 - val_acc: 0.8430\n",
            "Epoch 6/6\n",
            "250/250 [==============================] - 73s 293ms/step - loss: 0.1902 - acc: 0.9270 - val_loss: 0.4124 - val_acc: 0.8474\n",
            "313/313 [==============================] - 11s 37ms/step - loss: 0.3948 - acc: 0.8544\n",
            "Epoch 1/10\n",
            "250/250 [==============================] - 36s 138ms/step - loss: 0.4732 - acc: 0.7590 - val_loss: 0.3490 - val_acc: 0.8491\n",
            "Epoch 2/10\n",
            "250/250 [==============================] - 35s 139ms/step - loss: 0.3066 - acc: 0.8751 - val_loss: 0.3364 - val_acc: 0.8591\n",
            "Epoch 3/10\n",
            "250/250 [==============================] - 34s 137ms/step - loss: 0.2647 - acc: 0.8949 - val_loss: 0.3473 - val_acc: 0.8500\n",
            "Epoch 4/10\n",
            "250/250 [==============================] - 34s 137ms/step - loss: 0.2352 - acc: 0.9079 - val_loss: 0.3571 - val_acc: 0.8521\n",
            "Epoch 5/10\n",
            "250/250 [==============================] - 35s 140ms/step - loss: 0.2085 - acc: 0.9201 - val_loss: 0.3835 - val_acc: 0.8500\n",
            "Epoch 6/10\n",
            "250/250 [==============================] - 34s 137ms/step - loss: 0.1798 - acc: 0.9327 - val_loss: 0.3869 - val_acc: 0.8397\n",
            "Epoch 7/10\n",
            "250/250 [==============================] - 34s 136ms/step - loss: 0.1579 - acc: 0.9438 - val_loss: 0.4463 - val_acc: 0.8431\n",
            "Epoch 8/10\n",
            "250/250 [==============================] - 34s 137ms/step - loss: 0.1377 - acc: 0.9520 - val_loss: 0.4809 - val_acc: 0.8435\n",
            "Epoch 9/10\n",
            "250/250 [==============================] - 35s 140ms/step - loss: 0.1239 - acc: 0.9566 - val_loss: 0.5106 - val_acc: 0.8406\n",
            "Epoch 10/10\n",
            "250/250 [==============================] - 34s 138ms/step - loss: 0.1042 - acc: 0.9663 - val_loss: 0.5480 - val_acc: 0.8346\n",
            "313/313 [==============================] - 3s 9ms/step - loss: 0.5256 - acc: 0.8469\n",
            "Epoch 1/10\n",
            "250/250 [==============================] - 12s 41ms/step - loss: 0.6905 - accuracy: 0.5196 - val_loss: 0.6892 - val_accuracy: 0.5325\n",
            "Epoch 2/10\n",
            "250/250 [==============================] - 10s 38ms/step - loss: 0.6895 - accuracy: 0.5292 - val_loss: 0.6889 - val_accuracy: 0.5216\n",
            "Epoch 3/10\n",
            "250/250 [==============================] - 10s 39ms/step - loss: 0.6887 - accuracy: 0.5368 - val_loss: 0.6859 - val_accuracy: 0.6081\n",
            "Epoch 4/10\n",
            "250/250 [==============================] - 10s 39ms/step - loss: 0.6864 - accuracy: 0.5693 - val_loss: 0.6861 - val_accuracy: 0.5746\n",
            "Epoch 5/10\n",
            "250/250 [==============================] - 10s 39ms/step - loss: 0.6761 - accuracy: 0.5979 - val_loss: 0.6570 - val_accuracy: 0.6280\n",
            "Epoch 6/10\n",
            "250/250 [==============================] - 10s 39ms/step - loss: 0.6444 - accuracy: 0.6228 - val_loss: 0.6348 - val_accuracy: 0.6356\n",
            "Epoch 7/10\n",
            "250/250 [==============================] - 10s 40ms/step - loss: 0.6257 - accuracy: 0.6418 - val_loss: 0.6284 - val_accuracy: 0.6313\n",
            "Epoch 8/10\n",
            "250/250 [==============================] - 10s 39ms/step - loss: 0.6052 - accuracy: 0.6607 - val_loss: 0.6051 - val_accuracy: 0.6670\n",
            "Epoch 9/10\n",
            "250/250 [==============================] - 10s 39ms/step - loss: 0.5870 - accuracy: 0.6755 - val_loss: 0.5940 - val_accuracy: 0.6865\n",
            "Epoch 10/10\n",
            "250/250 [==============================] - 10s 39ms/step - loss: 0.5687 - accuracy: 0.6924 - val_loss: 0.5861 - val_accuracy: 0.6992\n",
            "313/313 [==============================] - 2s 5ms/step - loss: 0.5784 - accuracy: 0.6915\n"
          ]
        },
        {
          "data": {
            "text/html": [
              "<div>\n",
              "<style scoped>\n",
              "    .dataframe tbody tr th:only-of-type {\n",
              "        vertical-align: middle;\n",
              "    }\n",
              "\n",
              "    .dataframe tbody tr th {\n",
              "        vertical-align: top;\n",
              "    }\n",
              "\n",
              "    .dataframe thead th {\n",
              "        text-align: right;\n",
              "    }\n",
              "</style>\n",
              "<table border=\"1\" class=\"dataframe\">\n",
              "  <thead>\n",
              "    <tr style=\"text-align: right;\">\n",
              "      <th></th>\n",
              "      <th>Glove</th>\n",
              "      <th>Word2vec</th>\n",
              "      <th>Fasttext</th>\n",
              "    </tr>\n",
              "  </thead>\n",
              "  <tbody>\n",
              "    <tr>\n",
              "      <th>LTSM</th>\n",
              "      <td>0.8663</td>\n",
              "      <td>0.8445</td>\n",
              "      <td>0.8544</td>\n",
              "    </tr>\n",
              "    <tr>\n",
              "      <th>GRU</th>\n",
              "      <td>0.8520</td>\n",
              "      <td>0.8389</td>\n",
              "      <td>0.8469</td>\n",
              "    </tr>\n",
              "    <tr>\n",
              "      <th>RNN + CNN</th>\n",
              "      <td>0.8346</td>\n",
              "      <td>0.4961</td>\n",
              "      <td>0.6915</td>\n",
              "    </tr>\n",
              "  </tbody>\n",
              "</table>\n",
              "</div>"
            ],
            "text/plain": [
              "            Glove  Word2vec  Fasttext\n",
              "LTSM       0.8663    0.8445    0.8544\n",
              "GRU        0.8520    0.8389    0.8469\n",
              "RNN + CNN  0.8346    0.4961    0.6915"
            ]
          },
          "execution_count": 62,
          "metadata": {},
          "output_type": "execute_result"
        }
      ],
      "source": [
        "results['Fasttext']=[train_and_evaluate_LTSM_model(embedding_matrix_fasttext), train_and_evaluate_GRU_model(embedding_matrix_fasttext),  train_and_evaluate_RNN_CNN_model(embedding_matrix_fasttext)]\n",
        "results"
      ]
    },
    {
      "cell_type": "code",
      "execution_count": null,
      "id": "d0fa1f8d",
      "metadata": {
        "id": "d0fa1f8d",
        "outputId": "9bbdfd30-f724-4ce8-b634-1a416c1532e6"
      },
      "outputs": [
        {
          "name": "stdout",
          "output_type": "stream",
          "text": [
            "Epoch 1/6\n",
            "250/250 [==============================] - 71s 277ms/step - loss: 0.4215 - acc: 0.8054 - val_loss: 0.3585 - val_acc: 0.8450\n",
            "Epoch 2/6\n",
            "250/250 [==============================] - 67s 270ms/step - loss: 0.2983 - acc: 0.8770 - val_loss: 0.3702 - val_acc: 0.8524\n",
            "Epoch 3/6\n",
            "250/250 [==============================] - 67s 267ms/step - loss: 0.2684 - acc: 0.8912 - val_loss: 0.3541 - val_acc: 0.8496\n",
            "Epoch 4/6\n",
            "250/250 [==============================] - 66s 264ms/step - loss: 0.2421 - acc: 0.9024 - val_loss: 0.3821 - val_acc: 0.8447\n",
            "Epoch 5/6\n",
            "250/250 [==============================] - 66s 264ms/step - loss: 0.2080 - acc: 0.9189 - val_loss: 0.4241 - val_acc: 0.8326\n",
            "Epoch 6/6\n",
            "250/250 [==============================] - 66s 264ms/step - loss: 0.1863 - acc: 0.9280 - val_loss: 0.4118 - val_acc: 0.8330\n",
            "313/313 [==============================] - 10s 32ms/step - loss: 0.3908 - acc: 0.8369\n",
            "Epoch 1/10\n",
            "250/250 [==============================] - 35s 136ms/step - loss: 0.4553 - acc: 0.7782 - val_loss: 0.3565 - val_acc: 0.8508\n",
            "Epoch 2/10\n",
            "250/250 [==============================] - 33s 134ms/step - loss: 0.3041 - acc: 0.8752 - val_loss: 0.3348 - val_acc: 0.8576\n",
            "Epoch 3/10\n",
            "250/250 [==============================] - 34s 134ms/step - loss: 0.2637 - acc: 0.8959 - val_loss: 0.3365 - val_acc: 0.8543\n",
            "Epoch 4/10\n",
            "250/250 [==============================] - 33s 134ms/step - loss: 0.2345 - acc: 0.9088 - val_loss: 0.3680 - val_acc: 0.8518\n",
            "Epoch 5/10\n",
            "250/250 [==============================] - 33s 134ms/step - loss: 0.2045 - acc: 0.9205 - val_loss: 0.3805 - val_acc: 0.8495\n",
            "Epoch 6/10\n",
            "250/250 [==============================] - 33s 134ms/step - loss: 0.1837 - acc: 0.9312 - val_loss: 0.4174 - val_acc: 0.8439\n",
            "Epoch 7/10\n",
            "250/250 [==============================] - 33s 134ms/step - loss: 0.1581 - acc: 0.9436 - val_loss: 0.4572 - val_acc: 0.8393\n",
            "Epoch 8/10\n",
            "250/250 [==============================] - 34s 134ms/step - loss: 0.1421 - acc: 0.9493 - val_loss: 0.4702 - val_acc: 0.8386\n",
            "Epoch 9/10\n",
            "250/250 [==============================] - 33s 134ms/step - loss: 0.1217 - acc: 0.9586 - val_loss: 0.5796 - val_acc: 0.8300\n",
            "Epoch 10/10\n",
            "250/250 [==============================] - 34s 134ms/step - loss: 0.1033 - acc: 0.9658 - val_loss: 0.5785 - val_acc: 0.8292\n",
            "313/313 [==============================] - 3s 9ms/step - loss: 0.5496 - acc: 0.8368\n",
            "Epoch 1/10\n",
            "250/250 [==============================] - 13s 42ms/step - loss: 0.6933 - accuracy: 0.4992 - val_loss: 0.6935 - val_accuracy: 0.5005\n",
            "Epoch 2/10\n",
            "250/250 [==============================] - 10s 41ms/step - loss: 0.6932 - accuracy: 0.5038 - val_loss: 0.6931 - val_accuracy: 0.5000\n",
            "Epoch 3/10\n",
            "250/250 [==============================] - 10s 40ms/step - loss: 0.6932 - accuracy: 0.5006 - val_loss: 0.6931 - val_accuracy: 0.5000\n",
            "Epoch 4/10\n",
            "250/250 [==============================] - 10s 41ms/step - loss: 0.6931 - accuracy: 0.4974 - val_loss: 0.6931 - val_accuracy: 0.5006\n",
            "Epoch 5/10\n",
            "250/250 [==============================] - 10s 41ms/step - loss: 0.6931 - accuracy: 0.4983 - val_loss: 0.6931 - val_accuracy: 0.5000\n",
            "Epoch 6/10\n",
            "250/250 [==============================] - 10s 41ms/step - loss: 0.6931 - accuracy: 0.5002 - val_loss: 0.6931 - val_accuracy: 0.5000\n",
            "Epoch 7/10\n",
            "250/250 [==============================] - 10s 40ms/step - loss: 0.6931 - accuracy: 0.4974 - val_loss: 0.6931 - val_accuracy: 0.5006\n",
            "Epoch 8/10\n",
            "250/250 [==============================] - 10s 41ms/step - loss: 0.6932 - accuracy: 0.4945 - val_loss: 0.6931 - val_accuracy: 0.5006\n",
            "Epoch 9/10\n",
            "250/250 [==============================] - 10s 40ms/step - loss: 0.6931 - accuracy: 0.5018 - val_loss: 0.6930 - val_accuracy: 0.5006\n",
            "Epoch 10/10\n",
            "250/250 [==============================] - 10s 41ms/step - loss: 0.6931 - accuracy: 0.4950 - val_loss: 0.6930 - val_accuracy: 0.5006\n",
            "313/313 [==============================] - 2s 5ms/step - loss: 0.6933 - accuracy: 0.4962\n"
          ]
        },
        {
          "data": {
            "text/html": [
              "<div>\n",
              "<style scoped>\n",
              "    .dataframe tbody tr th:only-of-type {\n",
              "        vertical-align: middle;\n",
              "    }\n",
              "\n",
              "    .dataframe tbody tr th {\n",
              "        vertical-align: top;\n",
              "    }\n",
              "\n",
              "    .dataframe thead th {\n",
              "        text-align: right;\n",
              "    }\n",
              "</style>\n",
              "<table border=\"1\" class=\"dataframe\">\n",
              "  <thead>\n",
              "    <tr style=\"text-align: right;\">\n",
              "      <th></th>\n",
              "      <th>Glove</th>\n",
              "      <th>Word2vec</th>\n",
              "      <th>Fasttext</th>\n",
              "      <th>Tf-idf</th>\n",
              "    </tr>\n",
              "  </thead>\n",
              "  <tbody>\n",
              "    <tr>\n",
              "      <th>LTSM</th>\n",
              "      <td>0.8663</td>\n",
              "      <td>0.8445</td>\n",
              "      <td>0.8544</td>\n",
              "      <td>0.8369</td>\n",
              "    </tr>\n",
              "    <tr>\n",
              "      <th>GRU</th>\n",
              "      <td>0.8520</td>\n",
              "      <td>0.8389</td>\n",
              "      <td>0.8469</td>\n",
              "      <td>0.8368</td>\n",
              "    </tr>\n",
              "    <tr>\n",
              "      <th>RNN + CNN</th>\n",
              "      <td>0.8346</td>\n",
              "      <td>0.4961</td>\n",
              "      <td>0.6915</td>\n",
              "      <td>0.4962</td>\n",
              "    </tr>\n",
              "  </tbody>\n",
              "</table>\n",
              "</div>"
            ],
            "text/plain": [
              "            Glove  Word2vec  Fasttext  Tf-idf\n",
              "LTSM       0.8663    0.8445    0.8544  0.8369\n",
              "GRU        0.8520    0.8389    0.8469  0.8368\n",
              "RNN + CNN  0.8346    0.4961    0.6915  0.4962"
            ]
          },
          "execution_count": 63,
          "metadata": {},
          "output_type": "execute_result"
        }
      ],
      "source": [
        "results['Tf-idf']=[train_and_evaluate_LTSM_model(embedding_matrix_tfidf), train_and_evaluate_GRU_model(embedding_matrix_tfidf),  train_and_evaluate_RNN_CNN_model(embedding_matrix_tfidf)]\n",
        "results"
      ]
    },
    {
      "cell_type": "markdown",
      "id": "d7f56e47",
      "metadata": {
        "id": "d7f56e47"
      },
      "source": [
        "Ces résultats montrent que les modèles LSTM et GRU sont globalement plus performants que le modèle RNN + CNN sur cet ensemble de données, quel que soit l'algorithme d'embedding utilisé. E\n",
        "n outre, les embeddings pré-entraînés donnent des résultats nettement supérieurs à l'utilisation de la pondération tf-idf.\n",
        "\n",
        "Parmi les différents algorithmes d'embedding, GloVe semble être le plus performant."
      ]
    },
    {
      "cell_type": "code",
      "execution_count": null,
      "id": "2bd445ff",
      "metadata": {
        "id": "2bd445ff"
      },
      "outputs": [],
      "source": []
    }
  ],
  "metadata": {
    "kernelspec": {
      "display_name": "Python 3 (ipykernel)",
      "language": "python",
      "name": "python3"
    },
    "language_info": {
      "codemirror_mode": {
        "name": "ipython",
        "version": 3
      },
      "file_extension": ".py",
      "mimetype": "text/x-python",
      "name": "python",
      "nbconvert_exporter": "python",
      "pygments_lexer": "ipython3",
      "version": "3.11.3"
    },
    "colab": {
      "provenance": [],
      "include_colab_link": true
    }
  },
  "nbformat": 4,
  "nbformat_minor": 5
}