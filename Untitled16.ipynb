{
  "nbformat": 4,
  "nbformat_minor": 0,
  "metadata": {
    "colab": {
      "provenance": [],
      "gpuType": "T4",
      "include_colab_link": true
    },
    "kernelspec": {
      "name": "python3",
      "display_name": "Python 3"
    },
    "language_info": {
      "name": "python"
    },
    "accelerator": "GPU"
  },
  "cells": [
    {
      "cell_type": "markdown",
      "metadata": {
        "id": "view-in-github",
        "colab_type": "text"
      },
      "source": [
        "<a href=\"https://colab.research.google.com/github/nadakhelif/CNN_tp_deep_learning/blob/main/Untitled16.ipynb\" target=\"_parent\"><img src=\"https://colab.research.google.com/assets/colab-badge.svg\" alt=\"Open In Colab\"/></a>"
      ]
    },
    {
      "cell_type": "code",
      "execution_count": 2,
      "metadata": {
        "id": "wVEvWfMfPpm3"
      },
      "outputs": [],
      "source": [
        "import numpy as np\n",
        "seed = 7\n",
        "np.random.seed(seed)\n",
        "\n",
        "from keras.datasets import mnist\n",
        "from keras.utils import to_categorical\n",
        "from keras import backend as K\n",
        "from keras.models import Sequential\n",
        "from keras.layers import Dense, Dropout, Flatten, Conv2D, MaxPooling2D\n",
        "\n",
        "K.set_image_data_format('channels_first')"
      ]
    },
    {
      "cell_type": "code",
      "source": [],
      "metadata": {
        "id": "Vx6jYFNChDPO"
      },
      "execution_count": null,
      "outputs": []
    },
    {
      "cell_type": "code",
      "source": [
        "!pip install tensorflow==2.15.0\n"
      ],
      "metadata": {
        "colab": {
          "base_uri": "https://localhost:8080/"
        },
        "id": "o5SWPsmuPvac",
        "outputId": "d40a6e92-598c-42ab-b33a-78548f9a55ad"
      },
      "execution_count": 3,
      "outputs": [
        {
          "output_type": "stream",
          "name": "stdout",
          "text": [
            "Requirement already satisfied: tensorflow==2.15.0 in /usr/local/lib/python3.10/dist-packages (2.15.0)\n",
            "Requirement already satisfied: absl-py>=1.0.0 in /usr/local/lib/python3.10/dist-packages (from tensorflow==2.15.0) (1.4.0)\n",
            "Requirement already satisfied: astunparse>=1.6.0 in /usr/local/lib/python3.10/dist-packages (from tensorflow==2.15.0) (1.6.3)\n",
            "Requirement already satisfied: flatbuffers>=23.5.26 in /usr/local/lib/python3.10/dist-packages (from tensorflow==2.15.0) (24.3.25)\n",
            "Requirement already satisfied: gast!=0.5.0,!=0.5.1,!=0.5.2,>=0.2.1 in /usr/local/lib/python3.10/dist-packages (from tensorflow==2.15.0) (0.5.4)\n",
            "Requirement already satisfied: google-pasta>=0.1.1 in /usr/local/lib/python3.10/dist-packages (from tensorflow==2.15.0) (0.2.0)\n",
            "Requirement already satisfied: h5py>=2.9.0 in /usr/local/lib/python3.10/dist-packages (from tensorflow==2.15.0) (3.9.0)\n",
            "Requirement already satisfied: libclang>=13.0.0 in /usr/local/lib/python3.10/dist-packages (from tensorflow==2.15.0) (18.1.1)\n",
            "Requirement already satisfied: ml-dtypes~=0.2.0 in /usr/local/lib/python3.10/dist-packages (from tensorflow==2.15.0) (0.2.0)\n",
            "Requirement already satisfied: numpy<2.0.0,>=1.23.5 in /usr/local/lib/python3.10/dist-packages (from tensorflow==2.15.0) (1.25.2)\n",
            "Requirement already satisfied: opt-einsum>=2.3.2 in /usr/local/lib/python3.10/dist-packages (from tensorflow==2.15.0) (3.3.0)\n",
            "Requirement already satisfied: packaging in /usr/local/lib/python3.10/dist-packages (from tensorflow==2.15.0) (24.0)\n",
            "Requirement already satisfied: protobuf!=4.21.0,!=4.21.1,!=4.21.2,!=4.21.3,!=4.21.4,!=4.21.5,<5.0.0dev,>=3.20.3 in /usr/local/lib/python3.10/dist-packages (from tensorflow==2.15.0) (3.20.3)\n",
            "Requirement already satisfied: setuptools in /usr/local/lib/python3.10/dist-packages (from tensorflow==2.15.0) (67.7.2)\n",
            "Requirement already satisfied: six>=1.12.0 in /usr/local/lib/python3.10/dist-packages (from tensorflow==2.15.0) (1.16.0)\n",
            "Requirement already satisfied: termcolor>=1.1.0 in /usr/local/lib/python3.10/dist-packages (from tensorflow==2.15.0) (2.4.0)\n",
            "Requirement already satisfied: typing-extensions>=3.6.6 in /usr/local/lib/python3.10/dist-packages (from tensorflow==2.15.0) (4.11.0)\n",
            "Requirement already satisfied: wrapt<1.15,>=1.11.0 in /usr/local/lib/python3.10/dist-packages (from tensorflow==2.15.0) (1.14.1)\n",
            "Requirement already satisfied: tensorflow-io-gcs-filesystem>=0.23.1 in /usr/local/lib/python3.10/dist-packages (from tensorflow==2.15.0) (0.36.0)\n",
            "Requirement already satisfied: grpcio<2.0,>=1.24.3 in /usr/local/lib/python3.10/dist-packages (from tensorflow==2.15.0) (1.62.2)\n",
            "Requirement already satisfied: tensorboard<2.16,>=2.15 in /usr/local/lib/python3.10/dist-packages (from tensorflow==2.15.0) (2.15.2)\n",
            "Requirement already satisfied: tensorflow-estimator<2.16,>=2.15.0 in /usr/local/lib/python3.10/dist-packages (from tensorflow==2.15.0) (2.15.0)\n",
            "Requirement already satisfied: keras<2.16,>=2.15.0 in /usr/local/lib/python3.10/dist-packages (from tensorflow==2.15.0) (2.15.0)\n",
            "Requirement already satisfied: wheel<1.0,>=0.23.0 in /usr/local/lib/python3.10/dist-packages (from astunparse>=1.6.0->tensorflow==2.15.0) (0.43.0)\n",
            "Requirement already satisfied: google-auth<3,>=1.6.3 in /usr/local/lib/python3.10/dist-packages (from tensorboard<2.16,>=2.15->tensorflow==2.15.0) (2.27.0)\n",
            "Requirement already satisfied: google-auth-oauthlib<2,>=0.5 in /usr/local/lib/python3.10/dist-packages (from tensorboard<2.16,>=2.15->tensorflow==2.15.0) (1.2.0)\n",
            "Requirement already satisfied: markdown>=2.6.8 in /usr/local/lib/python3.10/dist-packages (from tensorboard<2.16,>=2.15->tensorflow==2.15.0) (3.6)\n",
            "Requirement already satisfied: requests<3,>=2.21.0 in /usr/local/lib/python3.10/dist-packages (from tensorboard<2.16,>=2.15->tensorflow==2.15.0) (2.31.0)\n",
            "Requirement already satisfied: tensorboard-data-server<0.8.0,>=0.7.0 in /usr/local/lib/python3.10/dist-packages (from tensorboard<2.16,>=2.15->tensorflow==2.15.0) (0.7.2)\n",
            "Requirement already satisfied: werkzeug>=1.0.1 in /usr/local/lib/python3.10/dist-packages (from tensorboard<2.16,>=2.15->tensorflow==2.15.0) (3.0.2)\n",
            "Requirement already satisfied: cachetools<6.0,>=2.0.0 in /usr/local/lib/python3.10/dist-packages (from google-auth<3,>=1.6.3->tensorboard<2.16,>=2.15->tensorflow==2.15.0) (5.3.3)\n",
            "Requirement already satisfied: pyasn1-modules>=0.2.1 in /usr/local/lib/python3.10/dist-packages (from google-auth<3,>=1.6.3->tensorboard<2.16,>=2.15->tensorflow==2.15.0) (0.4.0)\n",
            "Requirement already satisfied: rsa<5,>=3.1.4 in /usr/local/lib/python3.10/dist-packages (from google-auth<3,>=1.6.3->tensorboard<2.16,>=2.15->tensorflow==2.15.0) (4.9)\n",
            "Requirement already satisfied: requests-oauthlib>=0.7.0 in /usr/local/lib/python3.10/dist-packages (from google-auth-oauthlib<2,>=0.5->tensorboard<2.16,>=2.15->tensorflow==2.15.0) (1.3.1)\n",
            "Requirement already satisfied: charset-normalizer<4,>=2 in /usr/local/lib/python3.10/dist-packages (from requests<3,>=2.21.0->tensorboard<2.16,>=2.15->tensorflow==2.15.0) (3.3.2)\n",
            "Requirement already satisfied: idna<4,>=2.5 in /usr/local/lib/python3.10/dist-packages (from requests<3,>=2.21.0->tensorboard<2.16,>=2.15->tensorflow==2.15.0) (3.7)\n",
            "Requirement already satisfied: urllib3<3,>=1.21.1 in /usr/local/lib/python3.10/dist-packages (from requests<3,>=2.21.0->tensorboard<2.16,>=2.15->tensorflow==2.15.0) (2.0.7)\n",
            "Requirement already satisfied: certifi>=2017.4.17 in /usr/local/lib/python3.10/dist-packages (from requests<3,>=2.21.0->tensorboard<2.16,>=2.15->tensorflow==2.15.0) (2024.2.2)\n",
            "Requirement already satisfied: MarkupSafe>=2.1.1 in /usr/local/lib/python3.10/dist-packages (from werkzeug>=1.0.1->tensorboard<2.16,>=2.15->tensorflow==2.15.0) (2.1.5)\n",
            "Requirement already satisfied: pyasn1<0.7.0,>=0.4.6 in /usr/local/lib/python3.10/dist-packages (from pyasn1-modules>=0.2.1->google-auth<3,>=1.6.3->tensorboard<2.16,>=2.15->tensorflow==2.15.0) (0.6.0)\n",
            "Requirement already satisfied: oauthlib>=3.0.0 in /usr/local/lib/python3.10/dist-packages (from requests-oauthlib>=0.7.0->google-auth-oauthlib<2,>=0.5->tensorboard<2.16,>=2.15->tensorflow==2.15.0) (3.2.2)\n"
          ]
        }
      ]
    },
    {
      "cell_type": "code",
      "source": [
        "import tensorflow as tf\n",
        "print(tf.__version__)\n"
      ],
      "metadata": {
        "colab": {
          "base_uri": "https://localhost:8080/"
        },
        "id": "1v8zpJl5Q1k_",
        "outputId": "7d059477-4677-4e4d-a2d4-cae91a9f1465"
      },
      "execution_count": 4,
      "outputs": [
        {
          "output_type": "stream",
          "name": "stdout",
          "text": [
            "2.15.0\n"
          ]
        }
      ]
    },
    {
      "cell_type": "code",
      "source": [
        "#load data\n",
        "(X_train, y_train),(X_test, y_test)= mnist.load_data()"
      ],
      "metadata": {
        "id": "N4zo31lsRjvW",
        "outputId": "f68f7b59-d88d-434c-9701-5d5c05731333",
        "colab": {
          "base_uri": "https://localhost:8080/"
        }
      },
      "execution_count": 5,
      "outputs": [
        {
          "output_type": "stream",
          "name": "stdout",
          "text": [
            "Downloading data from https://storage.googleapis.com/tensorflow/tf-keras-datasets/mnist.npz\n",
            "11490434/11490434 [==============================] - 0s 0us/step\n"
          ]
        }
      ]
    },
    {
      "cell_type": "code",
      "source": [
        "import matplotlib.pyplot as plt\n",
        "\n",
        "# Display the first few images from the training set\n",
        "num_images_to_display = 5\n",
        "for i in range(num_images_to_display):\n",
        "    plt.subplot(1, num_images_to_display, i+1)\n",
        "    plt.imshow(X_train[i], cmap='gray')\n",
        "    plt.title(\"Label: {}\".format(y_train[i]))\n",
        "    plt.axis('off')\n",
        "plt.show()"
      ],
      "metadata": {
        "colab": {
          "base_uri": "https://localhost:8080/",
          "height": 144
        },
        "id": "SVPOe9lmTTur",
        "outputId": "1d0cb792-d540-4f8e-e920-cfde3876f62a"
      },
      "execution_count": 6,
      "outputs": [
        {
          "output_type": "display_data",
          "data": {
            "text/plain": [
              "<Figure size 640x480 with 5 Axes>"
            ],
            "image/png": "[encoded data removed]"
          },
          "metadata": {}
        }
      ]
    },
    {
      "cell_type": "code",
      "source": [
        "# reshape to be [samples][pixels][width][height]\n",
        "X_train = X_train.reshape(X_train.shape[0], 1, 28,28).astype('float32')\n",
        "X_test = X_test.reshape(X_test.shape[0], 1, 28, 28).astype('float32')"
      ],
      "metadata": {
        "id": "zYpjBeUQTx-E"
      },
      "execution_count": 7,
      "outputs": []
    },
    {
      "cell_type": "code",
      "source": [
        "#one hot encode outputs\n",
        "y_train = to_categorical(y_train)\n",
        "y_test = to_categorical(y_test)\n",
        "num_classes = y_test.shape[1]"
      ],
      "metadata": {
        "id": "KWJ8wOnkUqRS"
      },
      "execution_count": 8,
      "outputs": []
    },
    {
      "cell_type": "code",
      "source": [
        "y_test[0]"
      ],
      "metadata": {
        "colab": {
          "base_uri": "https://localhost:8080/"
        },
        "id": "B1euiAAFWwSa",
        "outputId": "0cdd28f4-51d3-43d3-b081-b5e6ae5bbafa"
      },
      "execution_count": 9,
      "outputs": [
        {
          "output_type": "execute_result",
          "data": {
            "text/plain": [
              "array([0., 0., 0., 0., 0., 0., 0., 1., 0., 0.], dtype=float32)"
            ]
          },
          "metadata": {},
          "execution_count": 9
        }
      ]
    },
    {
      "cell_type": "code",
      "source": [
        "def get_data_mnist() :\n",
        "  #load data\n",
        "  (X_train, y_train),(X_test, y_test)= mnist.load_data()\n",
        "  # reshape to be [samples][pixels][width][height]\n",
        "  X_train = X_train.reshape(X_train.shape[0], 1, 28,28).astype('float32')\n",
        "  X_test = X_test.reshape(X_test.shape[0], 1, 28, 28).astype('float32')\n",
        "  #one hot encode outputs\n",
        "  y_train = to_categorical(y_train)\n",
        "  y_test = to_categorical(y_test)\n",
        "  num_classes = y_test.shape[1]\n",
        "  return (X_train, y_train), (X_test, y_test), num_classes"
      ],
      "metadata": {
        "id": "qq5pmYcWWxWz"
      },
      "execution_count": 10,
      "outputs": []
    },
    {
      "cell_type": "code",
      "source": [
        "(X_train, y_train), (X_test, y_test), num_classes = get_data_mnist()"
      ],
      "metadata": {
        "id": "XZNmTsXCXn06"
      },
      "execution_count": 11,
      "outputs": []
    },
    {
      "cell_type": "code",
      "source": [
        "def small_model():\n",
        "  model = Sequential()\n",
        "  # create model\n",
        "  model = Sequential()\n",
        "  model.add(Conv2D(64, (3, 3), input_shape=(1, 28, 28),activation='relu'))\n",
        "  model.add(Conv2D(32, (3, 3), activation='relu'))\n",
        "  model.add(Flatten())\n",
        "  model.add(Dense(num_classes, activation='softmax'))\n",
        "  #compile model\n",
        "  model.compile(loss='categorical_crossentropy', optimizer='adam', metrics=['accuracy'])\n",
        "  return model"
      ],
      "metadata": {
        "id": "7dTsPKG4Y9Dy"
      },
      "execution_count": 12,
      "outputs": []
    },
    {
      "cell_type": "code",
      "source": [
        "def medium_model():\n",
        "  model = Sequential()\n",
        "  model.add(Conv2D(128, (3, 3), input_shape=(1, 28, 28), activation='relu'))\n",
        "  model.add(Conv2D(64, (3, 3), activation='relu'))\n",
        "  model.add(Conv2D(32, (3, 3), activation='relu'))\n",
        "  model.add(Flatten())\n",
        "  model.add(Dense(128, activation='relu'))\n",
        "  model.add(Dense(num_classes, activation='softmax'))\n",
        "  model.compile(loss='categorical_crossentropy', optimizer='adam', metrics=['accuracy'])\n",
        "  return model"
      ],
      "metadata": {
        "id": "N2B_MORymVdC"
      },
      "execution_count": 24,
      "outputs": []
    },
    {
      "cell_type": "code",
      "source": [
        "def big_model():\n",
        "  model = Sequential()\n",
        "  model.add(Conv2D(256, (3, 3), input_shape=(1, 28, 28), activation='relu'))\n",
        "  model.add(Conv2D(128, (3, 3), activation='relu'))\n",
        "  model.add(Conv2D(64, (3, 3), activation='relu'))\n",
        "  model.add(Conv2D(32, (3, 3), activation='relu'))\n",
        "  model.add(Flatten())\n",
        "  model.add(Dense(256, activation='relu'))\n",
        "  model.add(Dense(128, activation='relu'))\n",
        "  model.add(Dense(num_classes, activation='softmax'))\n",
        "  model.compile(loss='categorical_crossentropy', optimizer='adam', metrics=['accuracy'])\n",
        "  return model"
      ],
      "metadata": {
        "id": "M9yaMHYYmaAX"
      },
      "execution_count": 25,
      "outputs": []
    },
    {
      "cell_type": "code",
      "source": [
        "model_big = big_model()\n",
        "model_md = medium_model()"
      ],
      "metadata": {
        "id": "4qpP8qfVmcTU"
      },
      "execution_count": 26,
      "outputs": []
    },
    {
      "cell_type": "code",
      "source": [
        "model = small_model()"
      ],
      "metadata": {
        "id": "5vMCnVSTZvi5"
      },
      "execution_count": 13,
      "outputs": []
    },
    {
      "cell_type": "code",
      "source": [
        "K.set_image_data_format('channels_first')"
      ],
      "metadata": {
        "id": "t28FWt2Uees1"
      },
      "execution_count": 14,
      "outputs": []
    },
    {
      "cell_type": "code",
      "source": [
        "# Train the model\n",
        "K.set_image_data_format('channels_first')\n",
        "history = model.fit(X_train, y_train, validation_data=(X_test, y_test), epochs=10, batch_size=200)\n"
      ],
      "metadata": {
        "colab": {
          "base_uri": "https://localhost:8080/"
        },
        "id": "lNDlKiMkeZQi",
        "outputId": "cbf15f27-a3c1-4fa8-f96f-48106ea33446"
      },
      "execution_count": 15,
      "outputs": [
        {
          "output_type": "stream",
          "name": "stdout",
          "text": [
            "Epoch 1/10\n",
            "300/300 [==============================] - 7s 10ms/step - loss: 0.4302 - accuracy: 0.9331 - val_loss: 0.0756 - val_accuracy: 0.9754\n",
            "Epoch 2/10\n",
            "300/300 [==============================] - 3s 10ms/step - loss: 0.0549 - accuracy: 0.9827 - val_loss: 0.0646 - val_accuracy: 0.9817\n",
            "Epoch 3/10\n",
            "300/300 [==============================] - 3s 9ms/step - loss: 0.0338 - accuracy: 0.9887 - val_loss: 0.0660 - val_accuracy: 0.9835\n",
            "Epoch 4/10\n",
            "300/300 [==============================] - 3s 9ms/step - loss: 0.0245 - accuracy: 0.9920 - val_loss: 0.0848 - val_accuracy: 0.9795\n",
            "Epoch 5/10\n",
            "300/300 [==============================] - 3s 9ms/step - loss: 0.0189 - accuracy: 0.9934 - val_loss: 0.0914 - val_accuracy: 0.9782\n",
            "Epoch 6/10\n",
            "300/300 [==============================] - 3s 10ms/step - loss: 0.0153 - accuracy: 0.9948 - val_loss: 0.0942 - val_accuracy: 0.9805\n",
            "Epoch 7/10\n",
            "300/300 [==============================] - 3s 9ms/step - loss: 0.0162 - accuracy: 0.9947 - val_loss: 0.1169 - val_accuracy: 0.9775\n",
            "Epoch 8/10\n",
            "300/300 [==============================] - 3s 9ms/step - loss: 0.0163 - accuracy: 0.9948 - val_loss: 0.1141 - val_accuracy: 0.9790\n",
            "Epoch 9/10\n",
            "300/300 [==============================] - 3s 9ms/step - loss: 0.0125 - accuracy: 0.9961 - val_loss: 0.1016 - val_accuracy: 0.9803\n",
            "Epoch 10/10\n",
            "300/300 [==============================] - 3s 9ms/step - loss: 0.0125 - accuracy: 0.9961 - val_loss: 0.1255 - val_accuracy: 0.9776\n"
          ]
        }
      ]
    },
    {
      "cell_type": "code",
      "source": [
        "history_big = model_big.fit(X_train, y_train, validation_data=(X_test, y_test), epochs=10, batch_size=200)"
      ],
      "metadata": {
        "id": "kVk4IHWnmvp5",
        "outputId": "87a6fe66-da5b-4abd-d55f-e0c80db4d7a4",
        "colab": {
          "base_uri": "https://localhost:8080/"
        }
      },
      "execution_count": 27,
      "outputs": [
        {
          "output_type": "stream",
          "name": "stdout",
          "text": [
            "Epoch 1/10\n",
            "300/300 [==============================] - 21s 54ms/step - loss: 0.1563 - accuracy: 0.9521 - val_loss: 0.0620 - val_accuracy: 0.9793\n",
            "Epoch 2/10\n",
            "300/300 [==============================] - 15s 52ms/step - loss: 0.0387 - accuracy: 0.9883 - val_loss: 0.0350 - val_accuracy: 0.9881\n",
            "Epoch 3/10\n",
            "300/300 [==============================] - 17s 55ms/step - loss: 0.0262 - accuracy: 0.9917 - val_loss: 0.0404 - val_accuracy: 0.9876\n",
            "Epoch 4/10\n",
            "300/300 [==============================] - 16s 54ms/step - loss: 0.0183 - accuracy: 0.9938 - val_loss: 0.0332 - val_accuracy: 0.9901\n",
            "Epoch 5/10\n",
            "300/300 [==============================] - 16s 52ms/step - loss: 0.0125 - accuracy: 0.9958 - val_loss: 0.0342 - val_accuracy: 0.9896\n",
            "Epoch 6/10\n",
            "300/300 [==============================] - 16s 52ms/step - loss: 0.0094 - accuracy: 0.9969 - val_loss: 0.0385 - val_accuracy: 0.9902\n",
            "Epoch 7/10\n",
            "300/300 [==============================] - 16s 52ms/step - loss: 0.0082 - accuracy: 0.9974 - val_loss: 0.0406 - val_accuracy: 0.9889\n",
            "Epoch 8/10\n",
            "300/300 [==============================] - 16s 52ms/step - loss: 0.0076 - accuracy: 0.9977 - val_loss: 0.0495 - val_accuracy: 0.9879\n",
            "Epoch 9/10\n",
            "300/300 [==============================] - 15s 50ms/step - loss: 0.0077 - accuracy: 0.9974 - val_loss: 0.0462 - val_accuracy: 0.9896\n",
            "Epoch 10/10\n",
            "300/300 [==============================] - 16s 52ms/step - loss: 0.0070 - accuracy: 0.9979 - val_loss: 0.0428 - val_accuracy: 0.9891\n"
          ]
        }
      ]
    },
    {
      "cell_type": "code",
      "source": [
        "history_md = model_md.fit(X_train, y_train, validation_data=(X_test, y_test), epochs=10, batch_size=200)"
      ],
      "metadata": {
        "id": "E-mLvA5am0J4",
        "outputId": "f067e31a-4486-4449-d0f6-bd089ab25512",
        "colab": {
          "base_uri": "https://localhost:8080/"
        }
      },
      "execution_count": 28,
      "outputs": [
        {
          "output_type": "stream",
          "name": "stdout",
          "text": [
            "Epoch 1/10\n",
            "300/300 [==============================] - 9s 22ms/step - loss: 0.1533 - accuracy: 0.9531 - val_loss: 0.0481 - val_accuracy: 0.9849\n",
            "Epoch 2/10\n",
            "300/300 [==============================] - 6s 21ms/step - loss: 0.0400 - accuracy: 0.9880 - val_loss: 0.0458 - val_accuracy: 0.9849\n",
            "Epoch 3/10\n",
            "300/300 [==============================] - 6s 21ms/step - loss: 0.0254 - accuracy: 0.9915 - val_loss: 0.0439 - val_accuracy: 0.9857\n",
            "Epoch 4/10\n",
            "300/300 [==============================] - 6s 21ms/step - loss: 0.0160 - accuracy: 0.9949 - val_loss: 0.0390 - val_accuracy: 0.9884\n",
            "Epoch 5/10\n",
            "300/300 [==============================] - 6s 21ms/step - loss: 0.0109 - accuracy: 0.9963 - val_loss: 0.0389 - val_accuracy: 0.9881\n",
            "Epoch 6/10\n",
            "300/300 [==============================] - 7s 22ms/step - loss: 0.0091 - accuracy: 0.9969 - val_loss: 0.0457 - val_accuracy: 0.9885\n",
            "Epoch 7/10\n",
            "300/300 [==============================] - 7s 23ms/step - loss: 0.0080 - accuracy: 0.9971 - val_loss: 0.0443 - val_accuracy: 0.9898\n",
            "Epoch 8/10\n",
            "300/300 [==============================] - 6s 21ms/step - loss: 0.0059 - accuracy: 0.9981 - val_loss: 0.0520 - val_accuracy: 0.9873\n",
            "Epoch 9/10\n",
            "300/300 [==============================] - 6s 21ms/step - loss: 0.0031 - accuracy: 0.9991 - val_loss: 0.0655 - val_accuracy: 0.9864\n",
            "Epoch 10/10\n",
            "300/300 [==============================] - 6s 21ms/step - loss: 0.0060 - accuracy: 0.9980 - val_loss: 0.0548 - val_accuracy: 0.9885\n"
          ]
        }
      ]
    },
    {
      "cell_type": "code",
      "source": [
        "# Evaluate the model\n",
        "loss, accuracy = model.evaluate(X_test, y_test)\n",
        "print(\"Test Loss:\", loss)\n",
        "print(\"Test Accuracy:\", accuracy)\n"
      ],
      "metadata": {
        "colab": {
          "base_uri": "https://localhost:8080/"
        },
        "id": "VIJomItYZgRC",
        "outputId": "16abeb89-b2a1-4263-cd4d-a8e119e1c654"
      },
      "execution_count": 16,
      "outputs": [
        {
          "output_type": "stream",
          "name": "stdout",
          "text": [
            "313/313 [==============================] - 1s 3ms/step - loss: 0.1255 - accuracy: 0.9776\n",
            "Test Loss: 0.12547194957733154\n",
            "Test Accuracy: 0.9775999784469604\n"
          ]
        }
      ]
    },
    {
      "cell_type": "code",
      "source": [
        "def print_model_error_rate(model, X_test, y_test):\n",
        "  # Final evaluation of the model\n",
        "  scores = model.evaluate(X_test, y_test, verbose=0)\n",
        "  print(\"Model score : %.2f%%\" % (scores[1]*100))\n",
        "  print(\"Model error rate : %.2f%%\" % (100-scores[1]*100))"
      ],
      "metadata": {
        "id": "ZqVcoLumcpCx"
      },
      "execution_count": 17,
      "outputs": []
    },
    {
      "cell_type": "code",
      "source": [
        "print_model_error_rate(model, X_test, y_test)"
      ],
      "metadata": {
        "id": "yY3O5h66kHJe",
        "outputId": "0b0541b2-8bc9-4145-f089-219258c2ebc3",
        "colab": {
          "base_uri": "https://localhost:8080/"
        }
      },
      "execution_count": 18,
      "outputs": [
        {
          "output_type": "stream",
          "name": "stdout",
          "text": [
            "Model score : 97.76%\n",
            "Model error rate : 2.24%\n"
          ]
        }
      ]
    },
    {
      "cell_type": "code",
      "source": [
        "def get_data_mnist2() :\n",
        "    # load data\n",
        "    (X_train, y_train),(X_test, y_test) = mnist.load_data()\n",
        "\n",
        "    # reshape to be [samples][pixels][width][height]\n",
        "    X_train = X_train.reshape(X_train.shape[0], 1, 28,28).astype(\"float32\") / 255\n",
        "    X_test = X_test.reshape(X_test.shape[0], 1, 28, 28).astype(\"float32\") / 255\n",
        "\n",
        "    # one hot encode outputs\n",
        "    y_train = to_categorical(y_train)\n",
        "    y_test = to_categorical(y_test)\n",
        "    num_classes = y_test.shape[1]\n",
        "\n",
        "    return (X_train, y_train), (X_test, y_test), num_classes"
      ],
      "metadata": {
        "id": "VMSk65Hhiie8"
      },
      "execution_count": 21,
      "outputs": []
    },
    {
      "cell_type": "code",
      "source": [
        "(X_train, y_train), (X_test, y_test), num_classes = get_data_mnist2()\n",
        "model = small_model()\n",
        "model.fit(X_train, y_train, validation_data=(X_test, y_test), epochs=10, batch_size=200)"
      ],
      "metadata": {
        "id": "-2aEVGIqkgHh",
        "outputId": "fe03559b-83b1-436f-9327-05da18f5f8d5",
        "colab": {
          "base_uri": "https://localhost:8080/"
        }
      },
      "execution_count": 22,
      "outputs": [
        {
          "output_type": "stream",
          "name": "stdout",
          "text": [
            "Epoch 1/10\n",
            "300/300 [==============================] - 4s 10ms/step - loss: 0.2260 - accuracy: 0.9345 - val_loss: 0.0722 - val_accuracy: 0.9775\n",
            "Epoch 2/10\n",
            "300/300 [==============================] - 3s 9ms/step - loss: 0.0617 - accuracy: 0.9811 - val_loss: 0.0517 - val_accuracy: 0.9831\n",
            "Epoch 3/10\n",
            "300/300 [==============================] - 3s 9ms/step - loss: 0.0431 - accuracy: 0.9868 - val_loss: 0.0460 - val_accuracy: 0.9853\n",
            "Epoch 4/10\n",
            "300/300 [==============================] - 3s 9ms/step - loss: 0.0340 - accuracy: 0.9889 - val_loss: 0.0444 - val_accuracy: 0.9867\n",
            "Epoch 5/10\n",
            "300/300 [==============================] - 3s 9ms/step - loss: 0.0271 - accuracy: 0.9914 - val_loss: 0.0434 - val_accuracy: 0.9865\n",
            "Epoch 6/10\n",
            "300/300 [==============================] - 3s 9ms/step - loss: 0.0210 - accuracy: 0.9936 - val_loss: 0.0443 - val_accuracy: 0.9856\n",
            "Epoch 7/10\n",
            "300/300 [==============================] - 3s 10ms/step - loss: 0.0146 - accuracy: 0.9955 - val_loss: 0.0486 - val_accuracy: 0.9862\n",
            "Epoch 8/10\n",
            "300/300 [==============================] - 3s 9ms/step - loss: 0.0128 - accuracy: 0.9963 - val_loss: 0.0518 - val_accuracy: 0.9864\n",
            "Epoch 9/10\n",
            "300/300 [==============================] - 3s 9ms/step - loss: 0.0108 - accuracy: 0.9966 - val_loss: 0.0521 - val_accuracy: 0.9862\n",
            "Epoch 10/10\n",
            "300/300 [==============================] - 3s 10ms/step - loss: 0.0083 - accuracy: 0.9971 - val_loss: 0.0527 - val_accuracy: 0.9862\n"
          ]
        },
        {
          "output_type": "execute_result",
          "data": {
            "text/plain": [
              "<keras.src.callbacks.History at 0x7aef17930fd0>"
            ]
          },
          "metadata": {},
          "execution_count": 22
        }
      ]
    },
    {
      "cell_type": "code",
      "source": [
        "print_model_error_rate(model, X_test, y_test)"
      ],
      "metadata": {
        "id": "1AEAUbr-kymO",
        "outputId": "cdc10240-0abb-4b51-8ea5-b1eb69ea0f5b",
        "colab": {
          "base_uri": "https://localhost:8080/"
        }
      },
      "execution_count": 23,
      "outputs": [
        {
          "output_type": "stream",
          "name": "stdout",
          "text": [
            "Model score : 98.62%\n",
            "Model error rate : 1.38%\n"
          ]
        }
      ]
    },
    {
      "cell_type": "code",
      "source": [
        "print_model_error_rate(model_big, X_test, y_test)"
      ],
      "metadata": {
        "id": "jyg5ui9HnBzD",
        "outputId": "9efbcc65-d5b3-4d09-e9bb-caa2e104a22c",
        "colab": {
          "base_uri": "https://localhost:8080/"
        }
      },
      "execution_count": 29,
      "outputs": [
        {
          "output_type": "stream",
          "name": "stdout",
          "text": [
            "Model score : 98.91%\n",
            "Model error rate : 1.09%\n"
          ]
        }
      ]
    },
    {
      "cell_type": "code",
      "source": [
        "print_model_error_rate(model_md, X_test, y_test)"
      ],
      "metadata": {
        "id": "lPw-IyKKnE94",
        "outputId": "cd35aaf0-0206-4012-ea3e-809701b555b9",
        "colab": {
          "base_uri": "https://localhost:8080/"
        }
      },
      "execution_count": 30,
      "outputs": [
        {
          "output_type": "stream",
          "name": "stdout",
          "text": [
            "Model score : 98.85%\n",
            "Model error rate : 1.15%\n"
          ]
        }
      ]
    },
    {
      "cell_type": "code",
      "source": [
        "\n",
        "# This function saves a model on the drive using two files: a json and a h5\n",
        "def save_keras_model(model, filename):\n",
        "  # serialize model to JSON\n",
        "  model_json = model.to_json()\n",
        "  with open(filename+\".json\", \"w\") as json_file:\n",
        "    json_file.write(model_json)\n",
        "  # serialize weights to HDF5\n",
        "  model.save_weights(filename+\".h5\")"
      ],
      "metadata": {
        "id": "NnFORRxMo77a"
      },
      "execution_count": 39,
      "outputs": []
    },
    {
      "cell_type": "code",
      "source": [],
      "metadata": {
        "id": "TZNQYYm0qZ-Y"
      },
      "execution_count": null,
      "outputs": []
    },
    {
      "cell_type": "code",
      "source": [
        "\n",
        "save_keras_model(model_big, \"nada\")"
      ],
      "metadata": {
        "id": "jZsHqrILp48G"
      },
      "execution_count": 40,
      "outputs": []
    },
    {
      "cell_type": "code",
      "source": [
        "def load_keras_model(filename):\n",
        "  # load json and create model\n",
        "  json_file = open(filename+\".json\", 'r')\n",
        "  loaded_model_json = json_file.read()\n",
        "  json_file.close()\n",
        "  loaded_model = model_from_json(loaded_model_json)\n",
        "  # load weights into new model\n",
        "  loaded_model.load_weights(filename+\".h5\")\n",
        "  return loaded_model"
      ],
      "metadata": {
        "id": "YT5Ey-JApBKx"
      },
      "execution_count": 37,
      "outputs": []
    },
    {
      "cell_type": "code",
      "source": [
        "from keras.models import model_from_json"
      ],
      "metadata": {
        "id": "kViV4L0gqcBt"
      },
      "execution_count": 38,
      "outputs": []
    },
    {
      "cell_type": "code",
      "source": [
        "model = load_keras_model(\"nada.json\")"
      ],
      "metadata": {
        "id": "FZjKgMnyqfUW"
      },
      "execution_count": 41,
      "outputs": []
    },
    {
      "cell_type": "code",
      "source": [
        "from keras.preprocessing import image\n",
        "import numpy as np\n",
        "img_path = 'two.png'\n",
        "img = image.load_img(img_path, target_size=(28, 28), grayscale=True)"
      ],
      "metadata": {
        "id": "5I3pJXUuq-r-"
      },
      "execution_count": null,
      "outputs": []
    },
    {
      "cell_type": "code",
      "source": [
        "# Convert the image to a numpy array\n",
        "img_array = image.img_to_array(img)\n",
        "\n",
        "# Normalize the image data\n",
        "img_array = img_array / 255.0\n",
        "\n",
        "# Reshape the image to match the input shape of your model\n",
        "img_array = np.expand_dims(img_array, axis=0)"
      ],
      "metadata": {
        "id": "jgb9GCEhsIBG"
      },
      "execution_count": null,
      "outputs": []
    },
    {
      "cell_type": "code",
      "source": [
        "# Make predictions using your trained model\n",
        "predictions = model.predict(img_array)\n",
        "\n",
        "# Get the predicted class\n",
        "predicted_class = np.argmax(predictions)\n",
        "\n",
        "# Print the predicted class\n",
        "print(\"Predicted class:\", predicted_class)"
      ],
      "metadata": {
        "id": "-wCLWFX_sK_g"
      },
      "execution_count": null,
      "outputs": []
    }
  ]
}